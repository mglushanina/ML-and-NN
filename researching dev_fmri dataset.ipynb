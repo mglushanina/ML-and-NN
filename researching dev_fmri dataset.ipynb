{
 "cells":[
  {
   "cell_type":"code",
   "source":[
    "#вопрос самый главный - как не просто копировать чужой код в плане func connec а попробовать сделать как-то по своему\n",
    "#вопрос другой - можно ли сгенерировать похожие данные или каким-то образом найти похожий датасет\n",
    "#и скормить алгоритмам два датасета\n",
    "\n",
    "from nilearn import datasets\n",
    "from nilearn import plotting\n",
    "from nilearn.input_data import NiftiLabelsMasker\n",
    "from nilearn.connectome import ConnectivityMeasure\n",
    "from sklearn.preprocessing import LabelEncoder\n",
    "from sklearn.decomposition import PCA\n",
    "from sklearn.model_selection import train_test_split\n",
    "import pandas as pd\n",
    "import numpy as np \n",
    "import matplotlib.pyplot as plt\n",
    "import seaborn as sns \n",
    "import warnings\n",
    "from tqdm import tqdm #бар прогрузки\n",
    "import pickle #и что это такое\n",
    "import os\n",
    "warnings.filterwarnings('ignore')"
   ],
   "execution_count":3,
   "outputs":[
    
   ],
   "metadata":{
    "datalore":{
     "type":"CODE",
     "hide_input_from_viewers":false,
     "hide_output_from_viewers":false
    }
   }
  },
  {
   "cell_type":"markdown",
   "source":[
    "основная задача - по функциональной связности предсказать какие-то фенотипические признаки\n",
    "референс: https:\/\/github.com\/brainhack-school2020\/tjays7_fmri\n",
    "\n",
    "мы будем работать с библиотекой нилерн - она помогает обрабатывать фмрт данные. чтобы не искать долго датасет и не обрабатывать его, возьмём обработанные (именно мрт часть) датасеты которые есть в самом нилерне. для этого проекта возьмём датасет с resting state ADHD "
   ],
   "attachments":{
    
   },
   "metadata":{
    "datalore":{
     "type":"MD",
     "hide_input_from_viewers":false,
     "hide_output_from_viewers":false
    }
   }
  },
  {
   "cell_type":"code",
   "source":[
    "adhd = datasets.fetch_adhd()\n",
    "adhd.keys()"
   ],
   "execution_count":4,
   "outputs":[
    {
     "name":"stdout",
     "text":[
      "Downloading data from https:\/\/www.nitrc.org\/frs\/download.php\/7788\/adhd40_0027011.tgz ...\n",
      "Resuming failed, try to download the whole file.\n",
      "Downloading data from https:\/\/www.nitrc.org\/frs\/download.php\/7788\/adhd40_0027011.tgz ...\n",
      "Downloading data from https:\/\/www.nitrc.org\/frs\/download.php\/7789\/adhd40_0027018.tgz ...\n",
      "Downloading data from https:\/\/www.nitrc.org\/frs\/download.php\/7790\/adhd40_0027034.tgz ...\n",
      "Downloading data from https:\/\/www.nitrc.org\/frs\/download.php\/7791\/adhd40_0027037.tgz ...\n",
      "Downloading data from https:\/\/www.nitrc.org\/frs\/download.php\/7792\/adhd40_1019436.tgz ...\n",
      "Downloading data from https:\/\/www.nitrc.org\/frs\/download.php\/7793\/adhd40_1206380.tgz ...\n",
      "Downloading data from https:\/\/www.nitrc.org\/frs\/download.php\/7794\/adhd40_1418396.tgz ...\n",
      "Downloading data from https:\/\/www.nitrc.org\/frs\/download.php\/7795\/adhd40_1517058.tgz ...\n",
      "Downloading data from https:\/\/www.nitrc.org\/frs\/download.php\/7796\/adhd40_1552181.tgz ...\n",
      "Downloading data from https:\/\/www.nitrc.org\/frs\/download.php\/7797\/adhd40_1562298.tgz ...\n",
      "Downloading data from https:\/\/www.nitrc.org\/frs\/download.php\/7798\/adhd40_1679142.tgz ...\n",
      "Downloading data from https:\/\/www.nitrc.org\/frs\/download.php\/7799\/adhd40_2014113.tgz ...\n",
      "Downloading data from https:\/\/www.nitrc.org\/frs\/download.php\/7800\/adhd40_2497695.tgz ...\n",
      "Downloading data from https:\/\/www.nitrc.org\/frs\/download.php\/7801\/adhd40_2950754.tgz ...\n",
      "Downloading data from https:\/\/www.nitrc.org\/frs\/download.php\/7802\/adhd40_3007585.tgz ...\n",
      "Downloading data from https:\/\/www.nitrc.org\/frs\/download.php\/7803\/adhd40_3154996.tgz ...\n",
      "Downloading data from https:\/\/www.nitrc.org\/frs\/download.php\/7804\/adhd40_3205761.tgz ...\n",
      "Downloading data from https:\/\/www.nitrc.org\/frs\/download.php\/7805\/adhd40_3520880.tgz ...\n",
      "Downloading data from https:\/\/www.nitrc.org\/frs\/download.php\/7806\/adhd40_3624598.tgz ...\n",
      "Downloading data from https:\/\/www.nitrc.org\/frs\/download.php\/7807\/adhd40_3699991.tgz ...\n",
      "Downloading data from https:\/\/www.nitrc.org\/frs\/download.php\/7808\/adhd40_3884955.tgz ...\n",
      "Downloading data from https:\/\/www.nitrc.org\/frs\/download.php\/7809\/adhd40_3902469.tgz ...\n",
      "Downloading data from https:\/\/www.nitrc.org\/frs\/download.php\/7810\/adhd40_3994098.tgz ...\n",
      "Downloading data from https:\/\/www.nitrc.org\/frs\/download.php\/7811\/adhd40_4016887.tgz ...\n"
     ],
     "output_type":"stream"
    },
    {
     "name":"stderr",
     "text":[
      "\rDownloaded 8019968 of 72402326 bytes (11.1%,    8.2s remaining)\rDownloaded 19685376 of 72402326 bytes (27.2%,    5.4s remaining)\rDownloaded 32071680 of 72402326 bytes (44.3%,    3.8s remaining)\rDownloaded 44908544 of 72402326 bytes (62.0%,    2.5s remaining)\rDownloaded 57999360 of 72402326 bytes (80.1%,    1.3s remaining)\rDownloaded 70959104 of 72402326 bytes (98.0%,    0.1s remaining) ...done. (7 seconds, 0 min)\n",
      "Extracting data from \/home\/datalore\/nilearn_data\/adhd\/1195d4b51afa739d0af4c7d508e1f39a\/adhd40_0027011.tgz..... done.\n",
      "\rDownloaded 11132928 of 76184603 bytes (14.6%,    5.9s remaining)\rDownloaded 24395776 of 76184603 bytes (32.0%,    4.3s remaining)\rDownloaded 37683200 of 76184603 bytes (49.5%,    3.1s remaining)\rDownloaded 51085312 of 76184603 bytes (67.1%,    2.0s remaining)\rDownloaded 64692224 of 76184603 bytes (84.9%,    0.9s remaining)\rDownloaded 75309056 of 76184603 bytes (98.9%,    0.1s remaining) ...done. (6 seconds, 0 min)\n",
      "Extracting data from \/home\/datalore\/nilearn_data\/adhd\/1195d4b51afa739d0af4c7d508e1f39a\/adhd40_0027018.tgz..... done.\n",
      "\rDownloaded 9773056 of 70074120 bytes (13.9%,    6.2s remaining)\rDownloaded 22200320 of 70074120 bytes (31.7%,    4.3s remaining)\rDownloaded 35299328 of 70074120 bytes (50.4%,    3.0s remaining)\rDownloaded 48816128 of 70074120 bytes (69.7%,    1.8s remaining)\rDownloaded 62554112 of 70074120 bytes (89.3%,    0.6s remaining) ...done. (6 seconds, 0 min)\n",
      "Extracting data from \/home\/datalore\/nilearn_data\/adhd\/1195d4b51afa739d0af4c7d508e1f39a\/adhd40_0027034.tgz..... done.\n",
      "\rDownloaded 9412608 of 69291635 bytes (13.6%,    6.4s remaining)\rDownloaded 20357120 of 69291635 bytes (29.4%,    4.9s remaining)\rDownloaded 31727616 of 69291635 bytes (45.8%,    3.6s remaining)\rDownloaded 43065344 of 69291635 bytes (62.2%,    2.5s remaining)\rDownloaded 54542336 of 69291635 bytes (78.7%,    1.4s remaining)\rDownloaded 65708032 of 69291635 bytes (94.8%,    0.3s remaining) ...done. (6 seconds, 0 min)\n",
      "Extracting data from \/home\/datalore\/nilearn_data\/adhd\/1195d4b51afa739d0af4c7d508e1f39a\/adhd40_0027037.tgz..... done.\n",
      "\rDownloaded 9895936 of 41803342 bytes (23.7%,    3.3s remaining)\rDownloaded 21684224 of 41803342 bytes (51.9%,    1.9s remaining)\rDownloaded 33619968 of 41803342 bytes (80.4%,    0.7s remaining) ...done. (4 seconds, 0 min)\n",
      "Extracting data from \/home\/datalore\/nilearn_data\/adhd\/1195d4b51afa739d0af4c7d508e1f39a\/adhd40_1019436.tgz..... done.\n",
      "\rDownloaded 9224192 of 20763649 bytes (44.4%,    1.3s remaining)\rDownloaded 19308544 of 20763649 bytes (93.0%,    0.2s remaining) ...done. (2 seconds, 0 min)\n",
      "Extracting data from \/home\/datalore\/nilearn_data\/adhd\/1195d4b51afa739d0af4c7d508e1f39a\/adhd40_1206380.tgz..... done.\n",
      "\rDownloaded 10559488 of 20168043 bytes (52.4%,    0.9s remaining) ...done. (2 seconds, 0 min)\n",
      "Extracting data from \/home\/datalore\/nilearn_data\/adhd\/1195d4b51afa739d0af4c7d508e1f39a\/adhd40_1418396.tgz..... done.\n",
      "\rDownloaded 11264000 of 62682233 bytes (18.0%,    4.6s remaining)\rDownloaded 23470080 of 62682233 bytes (37.4%,    3.4s remaining)\rDownloaded 35733504 of 62682233 bytes (57.0%,    2.3s remaining)\rDownloaded 47882240 of 62682233 bytes (76.4%,    1.2s remaining)\rDownloaded 57073664 of 62682233 bytes (91.1%,    0.5s remaining) ...done. (6 seconds, 0 min)\n",
      "Extracting data from \/home\/datalore\/nilearn_data\/adhd\/1195d4b51afa739d0af4c7d508e1f39a\/adhd40_1517058.tgz..... done.\n",
      "\rDownloaded 9830400 of 20196558 bytes (48.7%,    1.1s remaining) ...done. (2 seconds, 0 min)\n",
      "Extracting data from \/home\/datalore\/nilearn_data\/adhd\/1195d4b51afa739d0af4c7d508e1f39a\/adhd40_1552181.tgz..... done.\n",
      "\rDownloaded 11255808 of 60663491 bytes (18.6%,    4.4s remaining)\rDownloaded 23429120 of 60663491 bytes (38.6%,    3.2s remaining)\rDownloaded 35717120 of 60663491 bytes (58.9%,    2.1s remaining)\rDownloaded 48029696 of 60663491 bytes (79.2%,    1.1s remaining)\rDownloaded 60342272 of 60663491 bytes (99.5%,    0.0s remaining) ...done. (5 seconds, 0 min)\n",
      "Extracting data from \/home\/datalore\/nilearn_data\/adhd\/1195d4b51afa739d0af4c7d508e1f39a\/adhd40_1562298.tgz..... done.\n",
      "\rDownloaded 11018240 of 20628764 bytes (53.4%,    0.9s remaining) ...done. (2 seconds, 0 min)\n",
      "Extracting data from \/home\/datalore\/nilearn_data\/adhd\/1195d4b51afa739d0af4c7d508e1f39a\/adhd40_1679142.tgz..... done.\n",
      "\rDownloaded 11976704 of 33119052 bytes (36.2%,    1.8s remaining)\rDownloaded 24903680 of 33119052 bytes (75.2%,    0.7s remaining) ...done. (3 seconds, 0 min)\n",
      "Extracting data from \/home\/datalore\/nilearn_data\/adhd\/1195d4b51afa739d0af4c7d508e1f39a\/adhd40_2014113.tgz..... done.\n",
      "\rDownloaded 9953280 of 45455025 bytes (21.9%,    3.6s remaining)\rDownloaded 21053440 of 45455025 bytes (46.3%,    2.3s remaining)\rDownloaded 32915456 of 45455025 bytes (72.4%,    1.1s remaining) ...done. (4 seconds, 0 min)\n",
      "Extracting data from \/home\/datalore\/nilearn_data\/adhd\/1195d4b51afa739d0af4c7d508e1f39a\/adhd40_2497695.tgz..... done.\n",
      "\rDownloaded 11943936 of 57992968 bytes (20.6%,    3.9s remaining)\rDownloaded 24584192 of 57992968 bytes (42.4%,    2.8s remaining)\rDownloaded 34717696 of 57992968 bytes (59.9%,    2.1s remaining)\rDownloaded 45531136 of 57992968 bytes (78.5%,    1.1s remaining)\rDownloaded 56754176 of 57992968 bytes (97.9%,    0.1s remaining) ...done. (5 seconds, 0 min)\n",
      "Extracting data from \/home\/datalore\/nilearn_data\/adhd\/1195d4b51afa739d0af4c7d508e1f39a\/adhd40_2950754.tgz..... done.\n",
      "\rDownloaded 10354688 of 67925261 bytes (15.2%,    5.6s remaining)\rDownloaded 21938176 of 67925261 bytes (32.3%,    4.2s remaining)\rDownloaded 33554432 of 67925261 bytes (49.4%,    3.1s remaining)\rDownloaded 45146112 of 67925261 bytes (66.5%,    2.0s remaining)\rDownloaded 56762368 of 67925261 bytes (83.6%,    1.0s remaining) ...done. (6 seconds, 0 min)\n",
      "Extracting data from \/home\/datalore\/nilearn_data\/adhd\/1195d4b51afa739d0af4c7d508e1f39a\/adhd40_3007585.tgz..... done.\n",
      "\rDownloaded 10076160 of 32919780 bytes (30.6%,    2.3s remaining)\rDownloaded 21741568 of 32919780 bytes (66.0%,    1.0s remaining)\rDownloaded 31424512 of 32919780 bytes (95.5%,    0.1s remaining) ...done. (3 seconds, 0 min)\n",
      "Extracting data from \/home\/datalore\/nilearn_data\/adhd\/1195d4b51afa739d0af4c7d508e1f39a\/adhd40_3154996.tgz..... done.\n",
      "\rDownloaded 10387456 of 59835286 bytes (17.4%,    4.8s remaining)\rDownloaded 22020096 of 59835286 bytes (36.8%,    3.5s remaining)\rDownloaded 34136064 of 59835286 bytes (57.1%,    2.3s remaining)\rDownloaded 46563328 of 59835286 bytes (77.8%,    1.1s remaining)\rDownloaded 58359808 of 59835286 bytes (97.5%,    0.1s remaining) ...done. (5 seconds, 0 min)\n",
      "Extracting data from \/home\/datalore\/nilearn_data\/adhd\/1195d4b51afa739d0af4c7d508e1f39a\/adhd40_3205761.tgz..... done.\n",
      "\rDownloaded 11304960 of 61857076 bytes (18.3%,    4.5s remaining)\rDownloaded 23797760 of 61857076 bytes (38.5%,    3.2s remaining)\rDownloaded 36241408 of 61857076 bytes (58.6%,    2.1s remaining)\rDownloaded 48439296 of 61857076 bytes (78.3%,    1.1s remaining)\rDownloaded 61325312 of 61857076 bytes (99.1%,    0.0s remaining) ...done. (5 seconds, 0 min)\n",
      "Extracting data from \/home\/datalore\/nilearn_data\/adhd\/1195d4b51afa739d0af4c7d508e1f39a\/adhd40_3520880.tgz..... done.\n",
      "\rDownloaded 11976704 of 59385206 bytes (20.2%,    4.0s remaining)\rDownloaded 25919488 of 59385206 bytes (43.6%,    2.6s remaining)\rDownloaded 36937728 of 59385206 bytes (62.2%,    1.9s remaining)\rDownloaded 48709632 of 59385206 bytes (82.0%,    0.9s remaining)\rDownloaded 59039744 of 59385206 bytes (99.4%,    0.0s remaining) ...done. (5 seconds, 0 min)\n",
      "Extracting data from \/home\/datalore\/nilearn_data\/adhd\/1195d4b51afa739d0af4c7d508e1f39a\/adhd40_3624598.tgz..... done.\n",
      "\rDownloaded 8855552 of 41518251 bytes (21.3%,    3.8s remaining)\rDownloaded 19079168 of 41518251 bytes (46.0%,    2.4s remaining)\rDownloaded 29646848 of 41518251 bytes (71.4%,    1.2s remaining)\rDownloaded 40394752 of 41518251 bytes (97.3%,    0.1s remaining) ...done. (4 seconds, 0 min)\n",
      "Extracting data from \/home\/datalore\/nilearn_data\/adhd\/1195d4b51afa739d0af4c7d508e1f39a\/adhd40_3699991.tgz..... done.\n",
      "\rDownloaded 10264576 of 32108848 bytes (32.0%,    2.2s remaining)\rDownloaded 21053440 of 32108848 bytes (65.6%,    1.1s remaining)\rDownloaded 31866880 of 32108848 bytes (99.2%,    0.0s remaining) ...done. (3 seconds, 0 min)\n",
      "Extracting data from \/home\/datalore\/nilearn_data\/adhd\/1195d4b51afa739d0af4c7d508e1f39a\/adhd40_3884955.tgz..... done.\n",
      "\rDownloaded 10305536 of 39415752 bytes (26.1%,    2.9s remaining)\rDownloaded 21405696 of 39415752 bytes (54.3%,    1.7s remaining)\rDownloaded 32858112 of 39415752 bytes (83.4%,    0.6s remaining) ...done. (4 seconds, 0 min)\n",
      "Extracting data from \/home\/datalore\/nilearn_data\/adhd\/1195d4b51afa739d0af4c7d508e1f39a\/adhd40_3902469.tgz..... done.\n",
      "\rDownloaded 11862016 of 59297020 bytes (20.0%,    4.1s remaining)\rDownloaded 25034752 of 59297020 bytes (42.2%,    2.8s remaining)\rDownloaded 35487744 of 59297020 bytes (59.8%,    2.1s remaining)\rDownloaded 47243264 of 59297020 bytes (79.7%,    1.0s remaining) ...done. (5 seconds, 0 min)\n",
      "Extracting data from \/home\/datalore\/nilearn_data\/adhd\/1195d4b51afa739d0af4c7d508e1f39a\/adhd40_3994098.tgz..... done.\n",
      "\rDownloaded 11943936 of 20157314 bytes (59.3%,    0.7s remaining) ...done. (2 seconds, 0 min)\n",
      "Extracting data from \/home\/datalore\/nilearn_data\/adhd\/1195d4b51afa739d0af4c7d508e1f39a\/adhd40_4016887.tgz..... done.\n"
     ],
     "output_type":"stream"
    },
    {
     "data":{
      "text\/plain":[
       "dict_keys(['func', 'confounds', 'phenotypic', 'description'])"
      ]
     },
     "metadata":{
      
     },
     "output_type":"display_data"
    }
   ],
   "metadata":{
    "datalore":{
     "type":"CODE",
     "hide_input_from_viewers":false,
     "hide_output_from_viewers":false
    }
   }
  },
  {
   "cell_type":"markdown",
   "source":[
    "func и confounds нам понадобятся для того чтобы показать саму связность \n",
    "а phenotypic - как раз то, что мы будем предсказывать, эти данные ещё предстоит обработать  "
   ],
   "attachments":{
    
   },
   "metadata":{
    "datalore":{
     "type":"MD",
     "hide_input_from_viewers":false,
     "hide_output_from_viewers":false
    }
   }
  },
  {
   "cell_type":"markdown",
   "source":[
    "**обработка и препроцессинг данных** "
   ],
   "attachments":{
    
   },
   "metadata":{
    "datalore":{
     "type":"MD",
     "hide_input_from_viewers":false,
     "hide_output_from_viewers":false
    }
   }
  },
  {
   "cell_type":"code",
   "source":[
    "#посмотрим на наш датасет\n",
    "\n",
    "pheno = adhd.phenotypic\n",
    "ph = pd.DataFrame(pheno)\n",
    "len(ph)"
   ],
   "execution_count":5,
   "outputs":[
    {
     "data":{
      "text\/plain":[
       "30"
      ]
     },
     "metadata":{
      
     },
     "output_type":"display_data"
    }
   ],
   "metadata":{
    "datalore":{
     "type":"CODE",
     "hide_input_from_viewers":false,
     "hide_output_from_viewers":false
    }
   }
  },
  {
   "cell_type":"code",
   "source":[
    "ph.info()"
   ],
   "execution_count":6,
   "outputs":[
    {
     "name":"stdout",
     "text":[
      "<class 'pandas.core.frame.DataFrame'>\n",
      "RangeIndex: 30 entries, 0 to 29\n",
      "Data columns (total 65 columns):\n",
      " #   Column                      Non-Null Count  Dtype  \n",
      "---  ------                      --------------  -----  \n",
      " 0   f0                          30 non-null     object \n",
      " 1   Subject                     30 non-null     int64  \n",
      " 2   RestScan                    30 non-null     object \n",
      " 3   MeanFD                      30 non-null     float64\n",
      " 4   NumFD_greater_than_020      30 non-null     int64  \n",
      " 5   rootMeanSquareFD            30 non-null     float64\n",
      " 6   FDquartiletop14thFD         30 non-null     float64\n",
      " 7   PercentFD_greater_than_020  30 non-null     float64\n",
      " 8   MeanDVARS                   30 non-null     float64\n",
      " 9   MeanFD_Jenkinson            30 non-null     float64\n",
      " 10  site                        30 non-null     object \n",
      " 11  sibling_id                  30 non-null     object \n",
      " 12  data_set                    30 non-null     object \n",
      " 13  age                         30 non-null     float64\n",
      " 14  sex                         30 non-null     object \n",
      " 15  handedness                  30 non-null     object \n",
      " 16  full_2_iq                   30 non-null     object \n",
      " 17  full_4_iq                   30 non-null     object \n",
      " 18  viq                         30 non-null     object \n",
      " 19  piq                         30 non-null     object \n",
      " 20  iq_measure                  30 non-null     object \n",
      " 21  tdc                         30 non-null     int64  \n",
      " 22  adhd                        30 non-null     int64  \n",
      " 23  adhd_inattentive            30 non-null     object \n",
      " 24  adhd_combined               30 non-null     object \n",
      " 25  adhd_subthreshold           30 non-null     object \n",
      " 26  diagnosis_using_cdis        30 non-null     object \n",
      " 27  notes                       30 non-null     object \n",
      " 28  sess_1_anat_2               30 non-null     object \n",
      " 29  oppositional                30 non-null     object \n",
      " 30  cog_inatt                   30 non-null     object \n",
      " 31  hyperac                     30 non-null     object \n",
      " 32  anxious_shy                 30 non-null     object \n",
      " 33  perfectionism               30 non-null     object \n",
      " 34  social_problems             30 non-null     object \n",
      " 35  psychosomatic               30 non-null     object \n",
      " 36  conn_adhd                   30 non-null     object \n",
      " 37  restless_impulsive          30 non-null     object \n",
      " 38  emot_lability               30 non-null     object \n",
      " 39  conn_gi_tot                 30 non-null     object \n",
      " 40  dsm_iv_inatt                30 non-null     object \n",
      " 41  dsm_iv_h_i                  30 non-null     object \n",
      " 42  dsm_iv_tot                  30 non-null     object \n",
      " 43  study                       30 non-null     object \n",
      " 44  sess_1_rest_1               30 non-null     object \n",
      " 45  sess_1_rest_1_eyes          30 non-null     object \n",
      " 46  sess_1_rest_2               30 non-null     object \n",
      " 47  sess_1_rest_2_eyes          30 non-null     object \n",
      " 48  sess_1_rest_3               30 non-null     object \n",
      " 49  sess_1_rest_3_eyes          30 non-null     object \n",
      " 50  sess_1_rest_4               30 non-null     object \n",
      " 51  sess_1_rest_4_eyes          30 non-null     object \n",
      " 52  sess_1_rest_5               30 non-null     object \n",
      " 53  sess_1_rest_5_eyes          30 non-null     object \n",
      " 54  sess_1_rest_6               30 non-null     object \n",
      " 55  sess_1_rest_6_eyes          30 non-null     object \n",
      " 56  sess_1_anat_1               30 non-null     object \n",
      " 57  sess_1_which_anat           30 non-null     object \n",
      " 58  sess_2_rest_1               30 non-null     object \n",
      " 59  sess_2_rest_1_eyes          30 non-null     object \n",
      " 60  sess_2_rest_2               30 non-null     object \n",
      " 61  sess_2_rest_2_eyes          30 non-null     object \n",
      " 62  sess_2_anat_1               30 non-null     object \n",
      " 63  defacing_ok                 30 non-null     object \n",
      " 64  defacing_notes              30 non-null     object \n",
      "dtypes: float64(7), int64(4), object(54)\n",
      "memory usage: 15.4+ KB\n"
     ],
     "output_type":"stream"
    }
   ],
   "metadata":{
    "datalore":{
     "type":"CODE",
     "hide_input_from_viewers":false,
     "hide_output_from_viewers":false
    }
   }
  },
  {
   "cell_type":"code",
   "source":[
    "for i in ph: \n",
    "    print(i, ph[i].unique())"
   ],
   "execution_count":7,
   "outputs":[
    {
     "name":"stdout",
     "text":[
      "f0 [b'\"21\"' b'\"19\"' b'\"22\"' b'\"20\"' b'\"30\"' b'\"27\"' b'\"15\"' b'\"11\"' b'\"9\"'\n",
      " b'\"13\"' b'\"5\"' b'\"29\"' b'\"32\"' b'\"36\"' b'\"25\"' b'\"38\"' b'\"28\"' b'\"1\"'\n",
      " b'\"23\"' b'\"33\"' b'\"16\"' b'\"7\"' b'\"39\"' b'\"35\"' b'\"40\"' b'\"6\"' b'\"8\"'\n",
      " b'\"2\"' b'\"34\"' b'\"31\"']\n",
      "Subject [  10042   10064   10128   21019   23008   23012   27011   27018   27034\n",
      "   27037 1019436 1206380 1418396 1517058 1552181 1562298 1679142 2014113\n",
      " 2497695 2950754 3007585 3154996 3205761 3520880 3624598 3699991 3884955\n",
      " 3902469 3994098 4016887]\n",
      "RestScan [b'\"rest_1\"']\n",
      "MeanFD [0.0559 0.0623 0.0689 0.0575 0.0801 0.0569 0.1212 0.0622 0.0484 0.0686\n",
      " 0.0904 0.0719 0.0713 0.0733 0.0408 0.0722 0.1482 0.0576 0.0482 0.0523\n",
      " 0.0528 0.0881 0.0679 0.0509 0.0653 0.1113 0.0988 0.058  0.0547 0.0879]\n",
      "NumFD_greater_than_020 [ 0  7  1  5  2  8 14 15  3]\n",
      "rootMeanSquareFD [0.2365 0.2496 0.2624 0.2398 0.2831 0.2386 0.3482 0.2494 0.2201 0.2619\n",
      " 0.3006 0.2681 0.267  0.2708 0.2021 0.2686 0.3849 0.24   0.2195 0.2287\n",
      " 0.2298 0.2968 0.2605 0.2255 0.2556 0.3337 0.3144 0.2409 0.234  0.2965]\n",
      "FDquartiletop14thFD [0.0922 0.0926 0.1132 0.0955 0.171  0.1044 0.2302 0.1221 0.086  0.1121\n",
      " 0.1927 0.1294 0.1471 0.145  0.0665 0.1246 0.2947 0.0944 0.0739 0.0864\n",
      " 0.1094 0.1619 0.1572 0.0743 0.1404 0.2524 0.1881 0.0931 0.0993 0.1516]\n",
      "PercentFD_greater_than_020 [0.     8.9744 0.3817 1.9157 0.3831 1.2658 2.5316 0.8439 1.6    3.3755\n",
      " 5.9072 9.8039 6.4    3.7975]\n",
      "MeanDVARS [ 2.2915  2.0866  2.1422  2.0339 13.4263 16.8908 21.6233 19.7246 21.5895\n",
      " 21.8621 19.6124 16.9621 17.4328 18.3401 12.8089 25.0944 18.4691 16.1677\n",
      "  2.1269 20.3974 25.124  18.612  23.8591 17.8432  8.28   19.8704 17.3609\n",
      " 17.4188 21.5907 17.4466]\n",
      "MeanFD_Jenkinson [1.0089 0.9943 1.2641 1.1973 1.7741 1.3229 2.4654 1.0707 0.9262 1.5228\n",
      " 1.6769 2.1269 1.8083 1.419  0.8528 1.8281 2.2433 1.3868 1.0257 1.1459\n",
      " 0.9446 1.8118 1.3947 1.3762 1.6411 2.6121 1.9543 1.204  1.32   2.5734]\n",
      "site [b'\"NYU\"' b'\"OHSU\"' b'\"NeuroImage\"' b'\"KKI\"' b'\"Peking_1\"' b'\"Peking_2\"'\n",
      " b'\"Peking_3\"']\n",
      "sibling_id [b'NA' b'4154182']\n",
      "data_set [b'\"data_set\"' b'\"test_set\"']\n",
      "age [10.65       15.9         9.53       15.53        9.17       11.33\n",
      " 20.82       19.08       13.35       17.74       12.98        8.67\n",
      "  9.75        9.83        9.58       10.34520548 11.61       13.33\n",
      " 19.05       11.65       14.58       12.77260274 11.84       10.63561644\n",
      " 12.75        9.08      ]\n",
      "sex [b'\"M\"' b'\"F\"']\n",
      "handedness [b'\"0.91\"' b'\"0.76\"' b'\"0.82\"' b'\"0.73\"' b'\"R\"' b'\"\"' b'\"0.6\"']\n",
      "full_2_iq [b'NA' b'128' b'113' b'97' b'78']\n",
      "full_4_iq [b'108' b'101' b'127' b'107' b'112' b'120' b'NA' b'144' b'113' b'116'\n",
      " b'106' b'142' b'135' b'115']\n",
      "viq [b'100' b'95' b'112' b'NA' b'141' b'109' b'107' b'137' b'126' b'140'\n",
      " b'121']\n",
      "piq [b'115' b'107' b'136' b'99' b'NA' b'138' b'123' b'109' b'80' b'135' b'104']\n",
      "iq_measure [b'2' b'5' b'NA' b'3']\n",
      "tdc [0 1]\n",
      "adhd [1 0]\n",
      "adhd_inattentive [b'NA' b'45' b'20' b'0' b'29']\n",
      "adhd_combined [b'NA' b'43' b'16' b'0' b'1' b'25']\n",
      "adhd_subthreshold [b'NA' b'0']\n",
      "diagnosis_using_cdis [b'\"\"' b'\"ADHD-I\"' b'\"ADHD-C;ODD\"']\n",
      "notes [b'\"\"' b'\"ODD\"']\n",
      "sess_1_anat_2 [b'\"\"' b'\"pass\"']\n",
      "oppositional [b'NA' b'83']\n",
      "cog_inatt [b'NA' b'76']\n",
      "hyperac [b'NA' b'66']\n",
      "anxious_shy [b'NA' b'47']\n",
      "perfectionism [b'NA' b'41']\n",
      "social_problems [b'NA' b'45']\n",
      "psychosomatic [b'NA' b'73']\n",
      "conn_adhd [b'NA' b'82']\n",
      "restless_impulsive [b'NA' b'82']\n",
      "emot_lability [b'NA' b'88']\n",
      "conn_gi_tot [b'NA' b'86']\n",
      "dsm_iv_inatt [b'59' b'81' b'58' b'NA' b'80']\n",
      "dsm_iv_h_i [b'56' b'90' b'60' b'NA' b'79']\n",
      "dsm_iv_tot [b'65' b'81' b'56' b'NA' b'82']\n",
      "study [b'NA']\n",
      "sess_1_rest_1 [b'\"pass\"']\n",
      "sess_1_rest_1_eyes [b'\"\"' b'\"closed\"' b'\"open\"']\n",
      "sess_1_rest_2 [b'\"pass\"' b'\"\"' b'\"fail\"']\n",
      "sess_1_rest_2_eyes [b'\"\"' b'\"open\"' b'\"closed\"']\n",
      "sess_1_rest_3 [b'\"\"' b'\"pass\"']\n",
      "sess_1_rest_3_eyes [b'\"\"' b'\"open\"']\n",
      "sess_1_rest_4 [b'NA']\n",
      "sess_1_rest_4_eyes [b'NA']\n",
      "sess_1_rest_5 [b'NA']\n",
      "sess_1_rest_5_eyes [b'NA']\n",
      "sess_1_rest_6 [b'NA']\n",
      "sess_1_rest_6_eyes [b'NA']\n",
      "sess_1_anat_1 [b'\"pass\"' b'\"\"']\n",
      "sess_1_which_anat [b'NA' b'1']\n",
      "sess_2_rest_1 [b'NA']\n",
      "sess_2_rest_1_eyes [b'NA']\n",
      "sess_2_rest_2 [b'NA']\n",
      "sess_2_rest_2_eyes [b'NA']\n",
      "sess_2_anat_1 [b'NA']\n",
      "defacing_ok [b'\"\"' b'\"yes\"']\n",
      "defacing_notes [b'\"\"']\n"
     ],
     "output_type":"stream"
    }
   ],
   "metadata":{
    "datalore":{
     "type":"CODE",
     "hide_input_from_viewers":false,
     "hide_output_from_viewers":false
    }
   }
  },
  {
   "cell_type":"code",
   "source":[
    "for i in ph: \n",
    "    print(i, pd.DataFrame(ph[i]).value_counts())"
   ],
   "execution_count":8,
   "outputs":[
    {
     "name":"stdout",
     "text":[
      "f0 f0     \n",
      "b'\"9\"'     1\n",
      "b'\"8\"'     1\n",
      "b'\"11\"'    1\n",
      "b'\"13\"'    1\n",
      "b'\"15\"'    1\n",
      "b'\"16\"'    1\n",
      "b'\"19\"'    1\n",
      "b'\"2\"'     1\n",
      "b'\"20\"'    1\n",
      "b'\"21\"'    1\n",
      "b'\"22\"'    1\n",
      "b'\"23\"'    1\n",
      "b'\"25\"'    1\n",
      "b'\"27\"'    1\n",
      "b'\"28\"'    1\n",
      "b'\"29\"'    1\n",
      "b'\"30\"'    1\n",
      "b'\"31\"'    1\n",
      "b'\"32\"'    1\n",
      "b'\"33\"'    1\n",
      "b'\"34\"'    1\n",
      "b'\"35\"'    1\n",
      "b'\"36\"'    1\n",
      "b'\"38\"'    1\n",
      "b'\"39\"'    1\n",
      "b'\"40\"'    1\n",
      "b'\"5\"'     1\n",
      "b'\"6\"'     1\n",
      "b'\"7\"'     1\n",
      "b'\"1\"'     1\n",
      "dtype: int64\n",
      "Subject Subject\n",
      "4016887    1\n",
      "3994098    1\n",
      "10064      1\n",
      "10128      1\n",
      "21019      1\n",
      "23008      1\n",
      "23012      1\n",
      "27011      1\n",
      "27018      1\n",
      "27034      1\n",
      "27037      1\n",
      "1019436    1\n",
      "1206380    1\n",
      "1418396    1\n",
      "1517058    1\n",
      "1552181    1\n",
      "1562298    1\n",
      "1679142    1\n",
      "2014113    1\n",
      "2497695    1\n",
      "2950754    1\n",
      "3007585    1\n",
      "3154996    1\n",
      "3205761    1\n",
      "3520880    1\n",
      "3624598    1\n",
      "3699991    1\n",
      "3884955    1\n",
      "3902469    1\n",
      "10042      1\n",
      "dtype: int64\n",
      "RestScan RestScan   \n",
      "b'\"rest_1\"'    30\n",
      "dtype: int64\n",
      "MeanFD MeanFD\n",
      "0.1482    1\n",
      "0.1212    1\n",
      "0.0482    1\n",
      "0.0484    1\n",
      "0.0509    1\n",
      "0.0523    1\n",
      "0.0528    1\n",
      "0.0547    1\n",
      "0.0559    1\n",
      "0.0569    1\n",
      "0.0575    1\n",
      "0.0576    1\n",
      "0.0580    1\n",
      "0.0622    1\n",
      "0.0623    1\n",
      "0.0653    1\n",
      "0.0679    1\n",
      "0.0686    1\n",
      "0.0689    1\n",
      "0.0713    1\n",
      "0.0719    1\n",
      "0.0722    1\n",
      "0.0733    1\n",
      "0.0801    1\n",
      "0.0879    1\n",
      "0.0881    1\n",
      "0.0904    1\n",
      "0.0988    1\n",
      "0.1113    1\n",
      "0.0408    1\n",
      "dtype: int64\n",
      "NumFD_greater_than_020 NumFD_greater_than_020\n",
      "0                         16\n",
      "2                          4\n",
      "1                          3\n",
      "8                          2\n",
      "15                         1\n",
      "14                         1\n",
      "7                          1\n",
      "5                          1\n",
      "3                          1\n",
      "dtype: int64\n",
      "rootMeanSquareFD rootMeanSquareFD\n",
      "0.3849              1\n",
      "0.3482              1\n",
      "0.2195              1\n",
      "0.2201              1\n",
      "0.2255              1\n",
      "0.2287              1\n",
      "0.2298              1\n",
      "0.2340              1\n",
      "0.2365              1\n",
      "0.2386              1\n",
      "0.2398              1\n",
      "0.2400              1\n",
      "0.2409              1\n",
      "0.2494              1\n",
      "0.2496              1\n",
      "0.2556              1\n",
      "0.2605              1\n",
      "0.2619              1\n",
      "0.2624              1\n",
      "0.2670              1\n",
      "0.2681              1\n",
      "0.2686              1\n",
      "0.2708              1\n",
      "0.2831              1\n",
      "0.2965              1\n",
      "0.2968              1\n",
      "0.3006              1\n",
      "0.3144              1\n",
      "0.3337              1\n",
      "0.2021              1\n",
      "dtype: int64\n",
      "FDquartiletop14thFD FDquartiletop14thFD\n",
      "0.2947                 1\n",
      "0.2524                 1\n",
      "0.0739                 1\n",
      "0.0743                 1\n",
      "0.0860                 1\n",
      "0.0864                 1\n",
      "0.0922                 1\n",
      "0.0926                 1\n",
      "0.0931                 1\n",
      "0.0944                 1\n",
      "0.0955                 1\n",
      "0.0993                 1\n",
      "0.1044                 1\n",
      "0.1094                 1\n",
      "0.1121                 1\n",
      "0.1132                 1\n",
      "0.1221                 1\n",
      "0.1246                 1\n",
      "0.1294                 1\n",
      "0.1404                 1\n",
      "0.1450                 1\n",
      "0.1471                 1\n",
      "0.1516                 1\n",
      "0.1572                 1\n",
      "0.1619                 1\n",
      "0.1710                 1\n",
      "0.1881                 1\n",
      "0.1927                 1\n",
      "0.2302                 1\n",
      "0.0665                 1\n",
      "dtype: int64\n",
      "PercentFD_greater_than_020 PercentFD_greater_than_020\n",
      "0.0000                        16\n",
      "0.8439                         2\n",
      "9.8039                         1\n",
      "8.9744                         1\n",
      "6.4000                         1\n",
      "5.9072                         1\n",
      "3.7975                         1\n",
      "3.3755                         1\n",
      "2.5316                         1\n",
      "1.9157                         1\n",
      "1.6000                         1\n",
      "1.2658                         1\n",
      "0.3831                         1\n",
      "0.3817                         1\n",
      "dtype: int64\n",
      "MeanDVARS MeanDVARS\n",
      "25.1240      1\n",
      "25.0944      1\n",
      "2.0866       1\n",
      "2.1269       1\n",
      "2.1422       1\n",
      "2.2915       1\n",
      "8.2800       1\n",
      "12.8089      1\n",
      "13.4263      1\n",
      "16.1677      1\n",
      "16.8908      1\n",
      "16.9621      1\n",
      "17.3609      1\n",
      "17.4188      1\n",
      "17.4328      1\n",
      "17.4466      1\n",
      "17.8432      1\n",
      "18.3401      1\n",
      "18.4691      1\n",
      "18.6120      1\n",
      "19.6124      1\n",
      "19.7246      1\n",
      "19.8704      1\n",
      "20.3974      1\n",
      "21.5895      1\n",
      "21.5907      1\n",
      "21.6233      1\n",
      "21.8621      1\n",
      "23.8591      1\n",
      "2.0339       1\n",
      "dtype: int64\n",
      "MeanFD_Jenkinson MeanFD_Jenkinson\n",
      "2.6121              1\n",
      "2.5734              1\n",
      "0.9262              1\n",
      "0.9446              1\n",
      "0.9943              1\n",
      "1.0089              1\n",
      "1.0257              1\n",
      "1.0707              1\n",
      "1.1459              1\n",
      "1.1973              1\n",
      "1.2040              1\n",
      "1.2641              1\n",
      "1.3200              1\n",
      "1.3229              1\n",
      "1.3762              1\n",
      "1.3868              1\n",
      "1.3947              1\n",
      "1.4190              1\n",
      "1.5228              1\n",
      "1.6411              1\n",
      "1.6769              1\n",
      "1.7741              1\n",
      "1.8083              1\n",
      "1.8118              1\n",
      "1.8281              1\n",
      "1.9543              1\n",
      "2.1269              1\n",
      "2.2433              1\n",
      "2.4654              1\n",
      "0.8528              1\n",
      "dtype: int64\n",
      "site site           \n",
      "b'\"OHSU\"'          7\n",
      "b'\"KKI\"'           6\n",
      "b'\"NeuroImage\"'    5\n",
      "b'\"NYU\"'           5\n",
      "b'\"Peking_2\"'      4\n",
      "b'\"Peking_1\"'      2\n",
      "b'\"Peking_3\"'      1\n",
      "dtype: int64\n",
      "sibling_id sibling_id\n",
      "b'NA'         29\n",
      "b'4154182'     1\n",
      "dtype: int64\n",
      "data_set data_set     \n",
      "b'\"data_set\"'    21\n",
      "b'\"test_set\"'     9\n",
      "dtype: int64\n",
      "age age      \n",
      "9.170000     2\n",
      "14.580000    2\n",
      "9.830000     2\n",
      "11.330000    2\n",
      "20.820000    1\n",
      "11.610000    1\n",
      "9.080000     1\n",
      "9.530000     1\n",
      "9.580000     1\n",
      "9.750000     1\n",
      "10.345205    1\n",
      "10.635616    1\n",
      "10.650000    1\n",
      "11.650000    1\n",
      "19.080000    1\n",
      "11.840000    1\n",
      "12.750000    1\n",
      "12.772603    1\n",
      "12.980000    1\n",
      "13.330000    1\n",
      "13.350000    1\n",
      "15.530000    1\n",
      "15.900000    1\n",
      "17.740000    1\n",
      "19.050000    1\n",
      "8.670000     1\n",
      "dtype: int64\n",
      "sex sex   \n",
      "b'\"M\"'    28\n",
      "b'\"F\"'     2\n",
      "dtype: int64\n",
      "handedness handedness\n",
      "b'\"R\"'        18\n",
      "b'\"\"'          7\n",
      "b'\"0.91\"'      1\n",
      "b'\"0.82\"'      1\n",
      "b'\"0.76\"'      1\n",
      "b'\"0.73\"'      1\n",
      "b'\"0.6\"'       1\n",
      "dtype: int64\n",
      "full_2_iq full_2_iq\n",
      "b'NA'        26\n",
      "b'97'         1\n",
      "b'78'         1\n",
      "b'128'        1\n",
      "b'113'        1\n",
      "dtype: int64\n",
      "full_4_iq full_4_iq\n",
      "b'NA'        16\n",
      "b'127'        2\n",
      "b'144'        1\n",
      "b'142'        1\n",
      "b'135'        1\n",
      "b'120'        1\n",
      "b'116'        1\n",
      "b'115'        1\n",
      "b'113'        1\n",
      "b'112'        1\n",
      "b'108'        1\n",
      "b'107'        1\n",
      "b'106'        1\n",
      "b'101'        1\n",
      "dtype: int64\n",
      "viq viq   \n",
      "b'NA'     19\n",
      "b'112'     2\n",
      "b'95'      1\n",
      "b'141'     1\n",
      "b'140'     1\n",
      "b'137'     1\n",
      "b'126'     1\n",
      "b'121'     1\n",
      "b'109'     1\n",
      "b'107'     1\n",
      "b'100'     1\n",
      "dtype: int64\n",
      "piq piq   \n",
      "b'NA'     19\n",
      "b'115'     2\n",
      "b'99'      1\n",
      "b'80'      1\n",
      "b'138'     1\n",
      "b'136'     1\n",
      "b'135'     1\n",
      "b'123'     1\n",
      "b'109'     1\n",
      "b'107'     1\n",
      "b'104'     1\n",
      "dtype: int64\n",
      "iq_measure iq_measure\n",
      "b'NA'         18\n",
      "b'2'           6\n",
      "b'5'           4\n",
      "b'3'           2\n",
      "dtype: int64\n",
      "tdc tdc\n",
      "0      17\n",
      "1      13\n",
      "dtype: int64\n",
      "adhd adhd\n",
      "1       17\n",
      "0       13\n",
      "dtype: int64\n",
      "adhd_inattentive adhd_inattentive\n",
      "b'NA'               21\n",
      "b'0'                 6\n",
      "b'45'                1\n",
      "b'29'                1\n",
      "b'20'                1\n",
      "dtype: int64\n",
      "adhd_combined adhd_combined\n",
      "b'NA'            21\n",
      "b'1'              3\n",
      "b'0'              3\n",
      "b'43'             1\n",
      "b'25'             1\n",
      "b'16'             1\n",
      "dtype: int64\n",
      "adhd_subthreshold adhd_subthreshold\n",
      "b'NA'                24\n",
      "b'0'                  6\n",
      "dtype: int64\n",
      "diagnosis_using_cdis diagnosis_using_cdis\n",
      "b'\"\"'                   28\n",
      "b'\"ADHD-I\"'              1\n",
      "b'\"ADHD-C;ODD\"'          1\n",
      "dtype: int64\n",
      "notes notes   \n",
      "b'\"\"'       29\n",
      "b'\"ODD\"'     1\n",
      "dtype: int64\n",
      "sess_1_anat_2 sess_1_anat_2\n",
      "b'\"\"'            28\n",
      "b'\"pass\"'         2\n",
      "dtype: int64\n",
      "oppositional oppositional\n",
      "b'NA'           29\n",
      "b'83'            1\n",
      "dtype: int64\n",
      "cog_inatt cog_inatt\n",
      "b'NA'        29\n",
      "b'76'         1\n",
      "dtype: int64\n",
      "hyperac hyperac\n",
      "b'NA'      29\n",
      "b'66'       1\n",
      "dtype: int64\n",
      "anxious_shy anxious_shy\n",
      "b'NA'          29\n",
      "b'47'           1\n",
      "dtype: int64\n",
      "perfectionism perfectionism\n",
      "b'NA'            29\n",
      "b'41'             1\n",
      "dtype: int64\n",
      "social_problems social_problems\n",
      "b'NA'              29\n",
      "b'45'               1\n",
      "dtype: int64\n",
      "psychosomatic psychosomatic\n",
      "b'NA'            29\n",
      "b'73'             1\n",
      "dtype: int64\n",
      "conn_adhd conn_adhd\n",
      "b'NA'        29\n",
      "b'82'         1\n",
      "dtype: int64\n",
      "restless_impulsive restless_impulsive\n",
      "b'NA'                 29\n",
      "b'82'                  1\n",
      "dtype: int64\n",
      "emot_lability emot_lability\n",
      "b'NA'            29\n",
      "b'88'             1\n",
      "dtype: int64\n",
      "conn_gi_tot conn_gi_tot\n",
      "b'NA'          29\n",
      "b'86'           1\n",
      "dtype: int64\n",
      "dsm_iv_inatt dsm_iv_inatt\n",
      "b'NA'           26\n",
      "b'81'            1\n",
      "b'80'            1\n",
      "b'59'            1\n",
      "b'58'            1\n",
      "dtype: int64\n",
      "dsm_iv_h_i dsm_iv_h_i\n",
      "b'NA'         26\n",
      "b'90'          1\n",
      "b'79'          1\n",
      "b'60'          1\n",
      "b'56'          1\n",
      "dtype: int64\n",
      "dsm_iv_tot dsm_iv_tot\n",
      "b'NA'         26\n",
      "b'82'          1\n",
      "b'81'          1\n",
      "b'65'          1\n",
      "b'56'          1\n",
      "dtype: int64\n",
      "study study\n",
      "b'NA'    30\n",
      "dtype: int64\n",
      "sess_1_rest_1 sess_1_rest_1\n",
      "b'\"pass\"'        30\n",
      "dtype: int64\n",
      "sess_1_rest_1_eyes sess_1_rest_1_eyes\n",
      "b'\"\"'                 21\n",
      "b'\"open\"'              5\n",
      "b'\"closed\"'            4\n",
      "dtype: int64\n",
      "sess_1_rest_2 sess_1_rest_2\n",
      "b'\"\"'            24\n",
      "b'\"pass\"'         5\n",
      "b'\"fail\"'         1\n",
      "dtype: int64\n",
      "sess_1_rest_2_eyes sess_1_rest_2_eyes\n",
      "b'\"\"'                 27\n",
      "b'\"open\"'              2\n",
      "b'\"closed\"'            1\n",
      "dtype: int64\n",
      "sess_1_rest_3 sess_1_rest_3\n",
      "b'\"\"'            28\n",
      "b'\"pass\"'         2\n",
      "dtype: int64\n",
      "sess_1_rest_3_eyes sess_1_rest_3_eyes\n",
      "b'\"\"'                 28\n",
      "b'\"open\"'              2\n",
      "dtype: int64\n",
      "sess_1_rest_4 sess_1_rest_4\n",
      "b'NA'            30\n",
      "dtype: int64\n",
      "sess_1_rest_4_eyes sess_1_rest_4_eyes\n",
      "b'NA'                 30\n",
      "dtype: int64\n",
      "sess_1_rest_5 sess_1_rest_5\n",
      "b'NA'            30\n",
      "dtype: int64\n",
      "sess_1_rest_5_eyes sess_1_rest_5_eyes\n",
      "b'NA'                 30\n",
      "dtype: int64\n",
      "sess_1_rest_6 sess_1_rest_6\n",
      "b'NA'            30\n",
      "dtype: int64\n",
      "sess_1_rest_6_eyes sess_1_rest_6_eyes\n",
      "b'NA'                 30\n",
      "dtype: int64\n",
      "sess_1_anat_1 sess_1_anat_1\n",
      "b'\"pass\"'        29\n",
      "b'\"\"'             1\n",
      "dtype: int64\n",
      "sess_1_which_anat sess_1_which_anat\n",
      "b'NA'                29\n",
      "b'1'                  1\n",
      "dtype: int64\n",
      "sess_2_rest_1 sess_2_rest_1\n",
      "b'NA'            30\n",
      "dtype: int64\n",
      "sess_2_rest_1_eyes sess_2_rest_1_eyes\n",
      "b'NA'                 30\n",
      "dtype: int64\n",
      "sess_2_rest_2 sess_2_rest_2\n",
      "b'NA'            30\n",
      "dtype: int64\n",
      "sess_2_rest_2_eyes sess_2_rest_2_eyes\n",
      "b'NA'                 30\n",
      "dtype: int64\n",
      "sess_2_anat_1 sess_2_anat_1\n",
      "b'NA'            30\n",
      "dtype: int64\n",
      "defacing_ok defacing_ok\n",
      "b'\"\"'          21\n",
      "b'\"yes\"'        9\n",
      "dtype: int64\n",
      "defacing_notes defacing_notes\n",
      "b'\"\"'             30\n",
      "dtype: int64\n"
     ],
     "output_type":"stream"
    }
   ],
   "metadata":{
    "datalore":{
     "type":"CODE",
     "hide_input_from_viewers":false,
     "hide_output_from_viewers":false
    }
   }
  },
  {
   "cell_type":"code",
   "source":[
    "#так как мы будет предсказывать данные не основываясь на этой табличке, а на основе данных функциональной связности\n",
    "#я выберу несколько таргетов, самое важное - предсказать СДВГ, но мы попробуем ещё возраст и пол\n",
    "\n",
    "target_dataset = ph[['sex', 'adhd', 'age']]\n",
    "target_dataset"
   ],
   "execution_count":9,
   "outputs":[
    {
     "data":{
      "text\/html":[
       "<div>\n",
       "<style scoped>\n",
       "    .dataframe tbody tr th:only-of-type {\n",
       "        vertical-align: middle;\n",
       "    }\n",
       "\n",
       "    .dataframe tbody tr th {\n",
       "        vertical-align: top;\n",
       "    }\n",
       "\n",
       "    .dataframe thead th {\n",
       "        text-align: right;\n",
       "    }\n",
       "<\/style>\n",
       "<table border=\"1\" class=\"dataframe\">\n",
       "  <thead>\n",
       "    <tr style=\"text-align: right;\">\n",
       "      <th><\/th>\n",
       "      <th>sex<\/th>\n",
       "      <th>adhd<\/th>\n",
       "      <th>age<\/th>\n",
       "    <\/tr>\n",
       "  <\/thead>\n",
       "  <tbody>\n",
       "    <tr>\n",
       "      <th>0<\/th>\n",
       "      <td>b'\"M\"'<\/td>\n",
       "      <td>1<\/td>\n",
       "      <td>10.650000<\/td>\n",
       "    <\/tr>\n",
       "    <tr>\n",
       "      <th>1<\/th>\n",
       "      <td>b'\"M\"'<\/td>\n",
       "      <td>1<\/td>\n",
       "      <td>15.900000<\/td>\n",
       "    <\/tr>\n",
       "    <tr>\n",
       "      <th>2<\/th>\n",
       "      <td>b'\"M\"'<\/td>\n",
       "      <td>0<\/td>\n",
       "      <td>9.530000<\/td>\n",
       "    <\/tr>\n",
       "    <tr>\n",
       "      <th>3<\/th>\n",
       "      <td>b'\"M\"'<\/td>\n",
       "      <td>0<\/td>\n",
       "      <td>15.530000<\/td>\n",
       "    <\/tr>\n",
       "    <tr>\n",
       "      <th>4<\/th>\n",
       "      <td>b'\"M\"'<\/td>\n",
       "      <td>0<\/td>\n",
       "      <td>9.170000<\/td>\n",
       "    <\/tr>\n",
       "    <tr>\n",
       "      <th>5<\/th>\n",
       "      <td>b'\"F\"'<\/td>\n",
       "      <td>1<\/td>\n",
       "      <td>11.330000<\/td>\n",
       "    <\/tr>\n",
       "    <tr>\n",
       "      <th>6<\/th>\n",
       "      <td>b'\"M\"'<\/td>\n",
       "      <td>1<\/td>\n",
       "      <td>20.820000<\/td>\n",
       "    <\/tr>\n",
       "    <tr>\n",
       "      <th>7<\/th>\n",
       "      <td>b'\"M\"'<\/td>\n",
       "      <td>1<\/td>\n",
       "      <td>19.080000<\/td>\n",
       "    <\/tr>\n",
       "    <tr>\n",
       "      <th>8<\/th>\n",
       "      <td>b'\"M\"'<\/td>\n",
       "      <td>1<\/td>\n",
       "      <td>13.350000<\/td>\n",
       "    <\/tr>\n",
       "    <tr>\n",
       "      <th>9<\/th>\n",
       "      <td>b'\"M\"'<\/td>\n",
       "      <td>1<\/td>\n",
       "      <td>17.740000<\/td>\n",
       "    <\/tr>\n",
       "    <tr>\n",
       "      <th>10<\/th>\n",
       "      <td>b'\"M\"'<\/td>\n",
       "      <td>1<\/td>\n",
       "      <td>12.980000<\/td>\n",
       "    <\/tr>\n",
       "    <tr>\n",
       "      <th>11<\/th>\n",
       "      <td>b'\"M\"'<\/td>\n",
       "      <td>1<\/td>\n",
       "      <td>9.170000<\/td>\n",
       "    <\/tr>\n",
       "    <tr>\n",
       "      <th>12<\/th>\n",
       "      <td>b'\"M\"'<\/td>\n",
       "      <td>0<\/td>\n",
       "      <td>8.670000<\/td>\n",
       "    <\/tr>\n",
       "    <tr>\n",
       "      <th>13<\/th>\n",
       "      <td>b'\"M\"'<\/td>\n",
       "      <td>0<\/td>\n",
       "      <td>9.750000<\/td>\n",
       "    <\/tr>\n",
       "    <tr>\n",
       "      <th>14<\/th>\n",
       "      <td>b'\"F\"'<\/td>\n",
       "      <td>1<\/td>\n",
       "      <td>9.830000<\/td>\n",
       "    <\/tr>\n",
       "    <tr>\n",
       "      <th>15<\/th>\n",
       "      <td>b'\"M\"'<\/td>\n",
       "      <td>0<\/td>\n",
       "      <td>9.580000<\/td>\n",
       "    <\/tr>\n",
       "    <tr>\n",
       "      <th>16<\/th>\n",
       "      <td>b'\"M\"'<\/td>\n",
       "      <td>0<\/td>\n",
       "      <td>11.330000<\/td>\n",
       "    <\/tr>\n",
       "    <tr>\n",
       "      <th>17<\/th>\n",
       "      <td>b'\"M\"'<\/td>\n",
       "      <td>1<\/td>\n",
       "      <td>10.345205<\/td>\n",
       "    <\/tr>\n",
       "    <tr>\n",
       "      <th>18<\/th>\n",
       "      <td>b'\"M\"'<\/td>\n",
       "      <td>1<\/td>\n",
       "      <td>11.610000<\/td>\n",
       "    <\/tr>\n",
       "    <tr>\n",
       "      <th>19<\/th>\n",
       "      <td>b'\"M\"'<\/td>\n",
       "      <td>1<\/td>\n",
       "      <td>13.330000<\/td>\n",
       "    <\/tr>\n",
       "    <tr>\n",
       "      <th>20<\/th>\n",
       "      <td>b'\"M\"'<\/td>\n",
       "      <td>0<\/td>\n",
       "      <td>19.050000<\/td>\n",
       "    <\/tr>\n",
       "    <tr>\n",
       "      <th>21<\/th>\n",
       "      <td>b'\"M\"'<\/td>\n",
       "      <td>1<\/td>\n",
       "      <td>11.650000<\/td>\n",
       "    <\/tr>\n",
       "    <tr>\n",
       "      <th>22<\/th>\n",
       "      <td>b'\"M\"'<\/td>\n",
       "      <td>1<\/td>\n",
       "      <td>14.580000<\/td>\n",
       "    <\/tr>\n",
       "    <tr>\n",
       "      <th>23<\/th>\n",
       "      <td>b'\"M\"'<\/td>\n",
       "      <td>1<\/td>\n",
       "      <td>9.830000<\/td>\n",
       "    <\/tr>\n",
       "    <tr>\n",
       "      <th>24<\/th>\n",
       "      <td>b'\"M\"'<\/td>\n",
       "      <td>0<\/td>\n",
       "      <td>14.580000<\/td>\n",
       "    <\/tr>\n",
       "    <tr>\n",
       "      <th>25<\/th>\n",
       "      <td>b'\"M\"'<\/td>\n",
       "      <td>0<\/td>\n",
       "      <td>12.772603<\/td>\n",
       "    <\/tr>\n",
       "    <tr>\n",
       "      <th>26<\/th>\n",
       "      <td>b'\"M\"'<\/td>\n",
       "      <td>0<\/td>\n",
       "      <td>11.840000<\/td>\n",
       "    <\/tr>\n",
       "    <tr>\n",
       "      <th>27<\/th>\n",
       "      <td>b'\"M\"'<\/td>\n",
       "      <td>0<\/td>\n",
       "      <td>10.635616<\/td>\n",
       "    <\/tr>\n",
       "    <tr>\n",
       "      <th>28<\/th>\n",
       "      <td>b'\"M\"'<\/td>\n",
       "      <td>0<\/td>\n",
       "      <td>12.750000<\/td>\n",
       "    <\/tr>\n",
       "    <tr>\n",
       "      <th>29<\/th>\n",
       "      <td>b'\"M\"'<\/td>\n",
       "      <td>1<\/td>\n",
       "      <td>9.080000<\/td>\n",
       "    <\/tr>\n",
       "  <\/tbody>\n",
       "<\/table>\n",
       "<\/div>"
      ]
     },
     "metadata":{
      
     },
     "output_type":"display_data"
    }
   ],
   "metadata":{
    "datalore":{
     "type":"CODE",
     "hide_input_from_viewers":false,
     "hide_output_from_viewers":false
    }
   }
  },
  {
   "cell_type":"code",
   "source":[
    "#сдвг у нас и так хорошо закодировано, нам остаётся только заенкодить пол\n",
    "\n",
    "le = LabelEncoder()\n",
    "target_dataset['sex'] = le.fit_transform(target_dataset['sex'])\n",
    "target_dataset"
   ],
   "execution_count":10,
   "outputs":[
    {
     "data":{
      "text\/html":[
       "<div>\n",
       "<style scoped>\n",
       "    .dataframe tbody tr th:only-of-type {\n",
       "        vertical-align: middle;\n",
       "    }\n",
       "\n",
       "    .dataframe tbody tr th {\n",
       "        vertical-align: top;\n",
       "    }\n",
       "\n",
       "    .dataframe thead th {\n",
       "        text-align: right;\n",
       "    }\n",
       "<\/style>\n",
       "<table border=\"1\" class=\"dataframe\">\n",
       "  <thead>\n",
       "    <tr style=\"text-align: right;\">\n",
       "      <th><\/th>\n",
       "      <th>sex<\/th>\n",
       "      <th>adhd<\/th>\n",
       "      <th>age<\/th>\n",
       "    <\/tr>\n",
       "  <\/thead>\n",
       "  <tbody>\n",
       "    <tr>\n",
       "      <th>0<\/th>\n",
       "      <td>1<\/td>\n",
       "      <td>1<\/td>\n",
       "      <td>10.650000<\/td>\n",
       "    <\/tr>\n",
       "    <tr>\n",
       "      <th>1<\/th>\n",
       "      <td>1<\/td>\n",
       "      <td>1<\/td>\n",
       "      <td>15.900000<\/td>\n",
       "    <\/tr>\n",
       "    <tr>\n",
       "      <th>2<\/th>\n",
       "      <td>1<\/td>\n",
       "      <td>0<\/td>\n",
       "      <td>9.530000<\/td>\n",
       "    <\/tr>\n",
       "    <tr>\n",
       "      <th>3<\/th>\n",
       "      <td>1<\/td>\n",
       "      <td>0<\/td>\n",
       "      <td>15.530000<\/td>\n",
       "    <\/tr>\n",
       "    <tr>\n",
       "      <th>4<\/th>\n",
       "      <td>1<\/td>\n",
       "      <td>0<\/td>\n",
       "      <td>9.170000<\/td>\n",
       "    <\/tr>\n",
       "    <tr>\n",
       "      <th>5<\/th>\n",
       "      <td>0<\/td>\n",
       "      <td>1<\/td>\n",
       "      <td>11.330000<\/td>\n",
       "    <\/tr>\n",
       "    <tr>\n",
       "      <th>6<\/th>\n",
       "      <td>1<\/td>\n",
       "      <td>1<\/td>\n",
       "      <td>20.820000<\/td>\n",
       "    <\/tr>\n",
       "    <tr>\n",
       "      <th>7<\/th>\n",
       "      <td>1<\/td>\n",
       "      <td>1<\/td>\n",
       "      <td>19.080000<\/td>\n",
       "    <\/tr>\n",
       "    <tr>\n",
       "      <th>8<\/th>\n",
       "      <td>1<\/td>\n",
       "      <td>1<\/td>\n",
       "      <td>13.350000<\/td>\n",
       "    <\/tr>\n",
       "    <tr>\n",
       "      <th>9<\/th>\n",
       "      <td>1<\/td>\n",
       "      <td>1<\/td>\n",
       "      <td>17.740000<\/td>\n",
       "    <\/tr>\n",
       "    <tr>\n",
       "      <th>10<\/th>\n",
       "      <td>1<\/td>\n",
       "      <td>1<\/td>\n",
       "      <td>12.980000<\/td>\n",
       "    <\/tr>\n",
       "    <tr>\n",
       "      <th>11<\/th>\n",
       "      <td>1<\/td>\n",
       "      <td>1<\/td>\n",
       "      <td>9.170000<\/td>\n",
       "    <\/tr>\n",
       "    <tr>\n",
       "      <th>12<\/th>\n",
       "      <td>1<\/td>\n",
       "      <td>0<\/td>\n",
       "      <td>8.670000<\/td>\n",
       "    <\/tr>\n",
       "    <tr>\n",
       "      <th>13<\/th>\n",
       "      <td>1<\/td>\n",
       "      <td>0<\/td>\n",
       "      <td>9.750000<\/td>\n",
       "    <\/tr>\n",
       "    <tr>\n",
       "      <th>14<\/th>\n",
       "      <td>0<\/td>\n",
       "      <td>1<\/td>\n",
       "      <td>9.830000<\/td>\n",
       "    <\/tr>\n",
       "    <tr>\n",
       "      <th>15<\/th>\n",
       "      <td>1<\/td>\n",
       "      <td>0<\/td>\n",
       "      <td>9.580000<\/td>\n",
       "    <\/tr>\n",
       "    <tr>\n",
       "      <th>16<\/th>\n",
       "      <td>1<\/td>\n",
       "      <td>0<\/td>\n",
       "      <td>11.330000<\/td>\n",
       "    <\/tr>\n",
       "    <tr>\n",
       "      <th>17<\/th>\n",
       "      <td>1<\/td>\n",
       "      <td>1<\/td>\n",
       "      <td>10.345205<\/td>\n",
       "    <\/tr>\n",
       "    <tr>\n",
       "      <th>18<\/th>\n",
       "      <td>1<\/td>\n",
       "      <td>1<\/td>\n",
       "      <td>11.610000<\/td>\n",
       "    <\/tr>\n",
       "    <tr>\n",
       "      <th>19<\/th>\n",
       "      <td>1<\/td>\n",
       "      <td>1<\/td>\n",
       "      <td>13.330000<\/td>\n",
       "    <\/tr>\n",
       "    <tr>\n",
       "      <th>20<\/th>\n",
       "      <td>1<\/td>\n",
       "      <td>0<\/td>\n",
       "      <td>19.050000<\/td>\n",
       "    <\/tr>\n",
       "    <tr>\n",
       "      <th>21<\/th>\n",
       "      <td>1<\/td>\n",
       "      <td>1<\/td>\n",
       "      <td>11.650000<\/td>\n",
       "    <\/tr>\n",
       "    <tr>\n",
       "      <th>22<\/th>\n",
       "      <td>1<\/td>\n",
       "      <td>1<\/td>\n",
       "      <td>14.580000<\/td>\n",
       "    <\/tr>\n",
       "    <tr>\n",
       "      <th>23<\/th>\n",
       "      <td>1<\/td>\n",
       "      <td>1<\/td>\n",
       "      <td>9.830000<\/td>\n",
       "    <\/tr>\n",
       "    <tr>\n",
       "      <th>24<\/th>\n",
       "      <td>1<\/td>\n",
       "      <td>0<\/td>\n",
       "      <td>14.580000<\/td>\n",
       "    <\/tr>\n",
       "    <tr>\n",
       "      <th>25<\/th>\n",
       "      <td>1<\/td>\n",
       "      <td>0<\/td>\n",
       "      <td>12.772603<\/td>\n",
       "    <\/tr>\n",
       "    <tr>\n",
       "      <th>26<\/th>\n",
       "      <td>1<\/td>\n",
       "      <td>0<\/td>\n",
       "      <td>11.840000<\/td>\n",
       "    <\/tr>\n",
       "    <tr>\n",
       "      <th>27<\/th>\n",
       "      <td>1<\/td>\n",
       "      <td>0<\/td>\n",
       "      <td>10.635616<\/td>\n",
       "    <\/tr>\n",
       "    <tr>\n",
       "      <th>28<\/th>\n",
       "      <td>1<\/td>\n",
       "      <td>0<\/td>\n",
       "      <td>12.750000<\/td>\n",
       "    <\/tr>\n",
       "    <tr>\n",
       "      <th>29<\/th>\n",
       "      <td>1<\/td>\n",
       "      <td>1<\/td>\n",
       "      <td>9.080000<\/td>\n",
       "    <\/tr>\n",
       "  <\/tbody>\n",
       "<\/table>\n",
       "<\/div>"
      ]
     },
     "metadata":{
      
     },
     "output_type":"display_data"
    }
   ],
   "metadata":{
    "datalore":{
     "type":"CODE",
     "hide_input_from_viewers":false,
     "hide_output_from_viewers":false
    }
   }
  },
  {
   "cell_type":"markdown",
   "source":[
    "делим мозг на части, чтобы определить наши регионы интереса ROI "
   ],
   "attachments":{
    
   },
   "metadata":{
    "datalore":{
     "type":"MD",
     "hide_input_from_viewers":false,
     "hide_output_from_viewers":false
    }
   }
  },
  {
   "cell_type":"code",
   "source":[
    "#вопрос - как выбрать атлас?\n",
    "#пояснить для себя самой же что каждая штучка значит\n",
    "mlscale = datasets.fetch_atlas_basc_multiscale_2015(version='sym')\n",
    "atlas_fname = mlscale.scale064\n",
    "\n",
    "plotting.plot_roi(atlas_fname, draw_cross=False)"
   ],
   "execution_count":11,
   "outputs":[
    {
     "name":"stdout",
     "text":[
      "\n",
      "Dataset created in \/home\/datalore\/nilearn_data\/basc_multiscale_2015\n",
      "\n",
      "Downloading data from https:\/\/ndownloader.figshare.com\/files\/1861819 ...\n"
     ],
     "output_type":"stream"
    },
    {
     "name":"stderr",
     "text":[
      " ...done. (0 seconds, 0 min)\n",
      "Extracting data from \/home\/datalore\/nilearn_data\/basc_multiscale_2015\/53337d5c408465aa257d35f81c13413b\/1861819..... done.\n"
     ],
     "output_type":"stream"
    },
    {
     "data":{
      "text\/plain":[
       "<nilearn.plotting.displays.OrthoSlicer at 0x7fe4c9fa9160>"
      ],
      "image\/png":"[encoded data removed]"
     },
     "metadata":{
      "image\/png":{
       
      }
     },
     "output_type":"display_data"
    }
   ],
   "metadata":{
    "datalore":{
     "type":"CODE",
     "hide_input_from_viewers":false,
     "hide_output_from_viewers":false
    }
   }
  },
  {
   "cell_type":"markdown",
   "source":[
    "дальше начинаем работать с временными рядами\n",
    "пока что на одном пациенте "
   ],
   "attachments":{
    
   },
   "metadata":{
    "datalore":{
     "type":"MD",
     "hide_input_from_viewers":false,
     "hide_output_from_viewers":false
    }
   }
  },
  {
   "cell_type":"code",
   "source":[
    "#тоже пояснить для себя все гиперпараметры и вообще всё что происходит \n",
    "#почитать про временные ряды\n",
    "mask = NiftiLabelsMasker(labels_img=atlas_fname, standardize=True, memory='nilearn_cache', verbose=0)\n",
    "\n",
    "sub = adhd.func[0]\n",
    "conf = adhd.confounds[0]\n",
    "time_series = mask.fit_transform(sub, confounds=conf)"
   ],
   "execution_count":12,
   "outputs":[
    
   ],
   "metadata":{
    "datalore":{
     "type":"CODE",
     "hide_input_from_viewers":false,
     "hide_output_from_viewers":false
    }
   }
  },
  {
   "cell_type":"code",
   "source":[
    "sub_all = adhd.func\n",
    "len(sub_all)"
   ],
   "execution_count":13,
   "outputs":[
    {
     "data":{
      "text\/plain":[
       "30"
      ]
     },
     "metadata":{
      
     },
     "output_type":"display_data"
    }
   ],
   "metadata":{
    "datalore":{
     "type":"CODE",
     "hide_input_from_viewers":false,
     "hide_output_from_viewers":false
    }
   }
  },
  {
   "cell_type":"code",
   "source":[
    "time_series.shape"
   ],
   "execution_count":14,
   "outputs":[
    {
     "data":{
      "text\/plain":[
       "(176, 64)"
      ]
     },
     "metadata":{
      
     },
     "output_type":"display_data"
    }
   ],
   "metadata":{
    "datalore":{
     "type":"CODE",
     "hide_input_from_viewers":false,
     "hide_output_from_viewers":false
    }
   }
  },
  {
   "cell_type":"code",
   "source":[
    "#дальше делаем матрицы корреляций для функциональной связности между регионами \n",
    "#нам понадобятся векторизированный и невекторизированный набор - один для красивой картинки, другой мы будем потом\n",
    "#кормить моделям, тоже почитать почему мы берем те или иные гиперпараметры \n",
    "\n",
    "vector_corr = ConnectivityMeasure(kind='correlation', discard_diagonal=True, vectorize=True)\n",
    "nonvector_corr = ConnectivityMeasure(kind='correlation', discard_diagonal=True)\n",
    "\n",
    "#почему нули? \n",
    "vector_corr = vector_corr.fit_transform([time_series])[0]\n",
    "nonvector_corr = nonvector_corr.fit_transform([time_series])[0]\n",
    "\n",
    "#надо подтюнить картинку на сиборне \n",
    "np.fill_diagonal(nonvector_corr, 0)\n",
    "plotting.plot_matrix(nonvector_corr, figure=(12, 12), \n",
    "                     labels=range(time_series.shape[-1]), \n",
    "                     vmax=0.8, vmin=-0.8, reorder=False)\n"
   ],
   "execution_count":15,
   "outputs":[
    {
     "data":{
      "text\/plain":[
       "<matplotlib.image.AxesImage at 0x7fe4c9e33490>"
      ],
      "image\/png":"[encoded data removed]"
     },
     "metadata":{
      "image\/png":{
       
      }
     },
     "output_type":"display_data"
    }
   ],
   "metadata":{
    "datalore":{
     "type":"CODE",
     "hide_input_from_viewers":false,
     "hide_output_from_viewers":false
    }
   }
  },
  {
   "cell_type":"code",
   "source":[
    "#понять что я здесь делаю\n",
    "all_features_vec = []\n",
    "all_features_nonvec = []\n",
    "\n",
    "vector_corr = ConnectivityMeasure(kind='correlation', discard_diagonal=True, vectorize=True)\n",
    "nonvector_corr = ConnectivityMeasure(kind='correlation', discard_diagonal=True)\n",
    "\n",
    "def all_vecs(corr_measure, vec_list): \n",
    "    for i,sub in enumerate(tqdm(adhd.func)):\n",
    "        time_series = mask.fit_transform(sub, confounds=adhd.confounds[i])\n",
    "        corr_matrix = corr_measure.fit_transform([time_series])[0]\n",
    "        vec_list.append(corr_matrix)\n",
    "\n",
    "all_vecs(vector_corr, all_features_vec)\n",
    "all_vecs(nonvector_corr, all_features_nonvec)"
   ],
   "execution_count":16,
   "outputs":[
    {
     "name":"stderr",
     "text":[
      "\r  0%|          | 0\/30 [00:00<?, ?it\/s]\r  3%|▎         | 1\/30 [00:01<00:32,  1.10s\/it]\r  7%|▋         | 2\/30 [00:02<00:32,  1.17s\/it]\r 10%|█         | 3\/30 [00:03<00:31,  1.17s\/it]\r 13%|█▎        | 4\/30 [00:04<00:30,  1.16s\/it]\r 17%|█▋        | 5\/30 [00:05<00:23,  1.07it\/s]\r 20%|██        | 6\/30 [00:05<00:19,  1.26it\/s]\r 23%|██▎       | 7\/30 [00:07<00:25,  1.10s\/it]\r 27%|██▋       | 8\/30 [00:09<00:29,  1.33s\/it]\r 30%|███       | 9\/30 [00:10<00:30,  1.45s\/it]\r 33%|███▎      | 10\/30 [00:12<00:30,  1.53s\/it]\r 37%|███▋      | 11\/30 [00:13<00:25,  1.37s\/it]\r 40%|████      | 12\/30 [00:14<00:20,  1.12s\/it]\r 43%|████▎     | 13\/30 [00:14<00:15,  1.06it\/s]\r 47%|████▋     | 14\/30 [00:16<00:18,  1.14s\/it]\r 50%|█████     | 15\/30 [00:16<00:14,  1.05it\/s]\r 53%|█████▎    | 16\/30 [00:23<00:38,  2.73s\/it]\r 57%|█████▋    | 17\/30 [00:24<00:26,  2.07s\/it]\r 60%|██████    | 18\/30 [00:25<00:20,  1.70s\/it]\r 63%|██████▎   | 19\/30 [00:26<00:16,  1.54s\/it]\r 67%|██████▋   | 20\/30 [00:27<00:15,  1.55s\/it]\r 70%|███████   | 21\/30 [00:29<00:14,  1.60s\/it]\r 73%|███████▎  | 22\/30 [00:30<00:10,  1.37s\/it]\r 77%|███████▋  | 23\/30 [00:31<00:09,  1.42s\/it]\r 80%|████████  | 24\/30 [00:33<00:08,  1.45s\/it]\r 83%|████████▎ | 25\/30 [00:34<00:07,  1.46s\/it]\r 87%|████████▋ | 26\/30 [00:35<00:05,  1.31s\/it]\r 90%|█████████ | 27\/30 [00:36<00:03,  1.16s\/it]\r 93%|█████████▎| 28\/30 [00:37<00:02,  1.10s\/it]\r 97%|█████████▋| 29\/30 [00:39<00:01,  1.21s\/it]\r100%|██████████| 30\/30 [00:39<00:00,  1.00s\/it]\r100%|██████████| 30\/30 [00:39<00:00,  1.32s\/it]\n",
      "\r  0%|          | 0\/30 [00:00<?, ?it\/s]\r  3%|▎         | 1\/30 [00:01<00:32,  1.11s\/it]\r  7%|▋         | 2\/30 [00:02<00:31,  1.12s\/it]\r 10%|█         | 3\/30 [00:03<00:30,  1.13s\/it]\r 13%|█▎        | 4\/30 [00:04<00:29,  1.13s\/it]\r 17%|█▋        | 5\/30 [00:05<00:22,  1.10it\/s]\r 20%|██        | 6\/30 [00:05<00:18,  1.30it\/s]\r 23%|██▎       | 7\/30 [00:07<00:24,  1.07s\/it]\r 27%|██▋       | 8\/30 [00:08<00:27,  1.27s\/it]\r 30%|███       | 9\/30 [00:10<00:29,  1.39s\/it]\r 33%|███▎      | 10\/30 [00:12<00:29,  1.48s\/it]\r 37%|███▋      | 11\/30 [00:13<00:25,  1.32s\/it]\r 40%|████      | 12\/30 [00:13<00:19,  1.08s\/it]\r 43%|████▎     | 13\/30 [00:14<00:15,  1.10it\/s]\r 47%|████▋     | 14\/30 [00:15<00:17,  1.09s\/it]\r 50%|█████     | 15\/30 [00:16<00:13,  1.09it\/s]\r 53%|█████▎    | 16\/30 [00:17<00:15,  1.09s\/it]\r 57%|█████▋    | 17\/30 [00:18<00:11,  1.09it\/s]\r 60%|██████    | 18\/30 [00:19<00:10,  1.14it\/s]\r 63%|██████▎   | 19\/30 [00:20<00:10,  1.05it\/s]\r 67%|██████▋   | 20\/30 [00:21<00:11,  1.12s\/it]\r 70%|███████   | 21\/30 [00:23<00:11,  1.27s\/it]\r 73%|███████▎  | 22\/30 [00:24<00:09,  1.13s\/it]\r 77%|███████▋  | 23\/30 [00:25<00:08,  1.23s\/it]\r 80%|████████  | 24\/30 [00:27<00:07,  1.31s\/it]\r 83%|████████▎ | 25\/30 [00:28<00:06,  1.36s\/it]\r 87%|████████▋ | 26\/30 [00:29<00:04,  1.24s\/it]\r 90%|█████████ | 27\/30 [00:30<00:03,  1.10s\/it]\r 93%|█████████▎| 28\/30 [00:31<00:02,  1.05s\/it]\r 97%|█████████▋| 29\/30 [00:32<00:01,  1.18s\/it]\r100%|██████████| 30\/30 [00:33<00:00,  1.02it\/s]\r100%|██████████| 30\/30 [00:33<00:00,  1.11s\/it]\n"
     ],
     "output_type":"stream"
    }
   ],
   "metadata":{
    "datalore":{
     "type":"CODE",
     "hide_input_from_viewers":false,
     "hide_output_from_viewers":false
    }
   }
  },
  {
   "cell_type":"code",
   "source":[
    "mean_corr_matrix = nonvector_corr.mean_\n",
    "coordinates = plotting.find_parcellation_cut_coords(labels_img=atlas_fname)\n",
    "\n",
    "view = plotting.view_connectome(mean_corr_matrix, coordinates, edge_threshold='80%', edge_cmap='Dark2')\n",
    "view.save_as_html('surface-plot.html')\n",
    "\n",
    "plotting.plot_connectome(mean_corr_matrix, coordinates, edge_threshold='90%')"
   ],
   "execution_count":17,
   "outputs":[
    {
     "data":{
      "text\/plain":[
       "<nilearn.plotting.displays.OrthoProjector at 0x7fe4c9cae2e0>"
      ],
      "image\/png":"[encoded data removed]"
     },
     "metadata":{
      "image\/png":{
       
      }
     },
     "output_type":"display_data"
    }
   ],
   "metadata":{
    "datalore":{
     "type":"CODE",
     "hide_input_from_viewers":false,
     "hide_output_from_viewers":false
    }
   }
  },
  {
   "cell_type":"code",
   "source":[
    "fig, ax = plt.subplots(1, figsize = (10,6))\n",
    "img = ax.imshow(all_features_vec, aspect = 'auto')\n",
    "fig.colorbar(img, ax = ax)\n",
    "ax.set(title = 'feature matrix', xlabel = 'Features', ylabel = 'Subject')"
   ],
   "execution_count":18,
   "outputs":[
    {
     "data":{
      "text\/plain":[
       "[Text(0.5, 1.0, 'feature matrix'),\n",
       " Text(0.5, 0, 'Features'),\n",
       " Text(0, 0.5, 'Subject')]"
      ],
      "image\/png":"[encoded data removed]"
     },
     "metadata":{
      "image\/png":{
       
      }
     },
     "output_type":"display_data"
    }
   ],
   "metadata":{
    "datalore":{
     "type":"CODE",
     "hide_input_from_viewers":false,
     "hide_output_from_viewers":false
    }
   }
  },
  {
   "cell_type":"code",
   "source":[
    "features = pd.DataFrame(all_features_vec)"
   ],
   "execution_count":19,
   "outputs":[
    
   ],
   "metadata":{
    "datalore":{
     "type":"CODE",
     "hide_input_from_viewers":false,
     "hide_output_from_viewers":false
    }
   }
  },
  {
   "cell_type":"code",
   "source":[
    "#у нас аж 2016 предикторов, это вообще-то мягко говоря очень много \n",
    "#и чтобы снизить размерность наших данных мы воспользуемся методом главных компонент "
   ],
   "execution_count":20,
   "outputs":[
    
   ],
   "metadata":{
    "datalore":{
     "type":"CODE",
     "hide_input_from_viewers":false,
     "hide_output_from_viewers":false
    }
   }
  },
  {
   "cell_type":"code",
   "source":[
    "pca = PCA(.95)\n",
    "features_pca = pca.fit_transform(features)\n",
    "df_features = pd.DataFrame(features_pca)"
   ],
   "execution_count":21,
   "outputs":[
    
   ],
   "metadata":{
    "datalore":{
     "type":"CODE",
     "hide_input_from_viewers":false,
     "hide_output_from_viewers":false
    }
   }
  },
  {
   "cell_type":"code",
   "source":[
    "fig, ax = plt.subplots(1, figsize = (8,6))\n",
    "ax.plot(pca.explained_variance_)\n",
    "ax.set(xlabel = 'number of components')\n",
    "ax.set(ylabel = 'cumulative explained variance')\n",
    "fig.show()"
   ],
   "execution_count":22,
   "outputs":[
    {
     "data":{
      "image\/png":"[encoded data removed]"
     },
     "metadata":{
      "image\/png":{
       
      }
     },
     "output_type":"display_data"
    }
   ],
   "metadata":{
    "datalore":{
     "type":"CODE",
     "hide_input_from_viewers":false,
     "hide_output_from_viewers":false
    }
   }
  },
  {
   "cell_type":"code",
   "source":[
    "df_adhd = pd.concat([df_features, target_dataset['adhd']], axis=1, sort=False)\n",
    "df_age = pd.concat([df_features, target_dataset['age']], axis=1, sort=False)"
   ],
   "execution_count":23,
   "outputs":[
    
   ],
   "metadata":{
    "datalore":{
     "type":"CODE",
     "hide_input_from_viewers":false,
     "hide_output_from_viewers":false
    }
   }
  },
  {
   "cell_type":"code",
   "source":[
    "#здесь будут графики и возможно нормализация"
   ],
   "execution_count":24,
   "outputs":[
    
   ],
   "metadata":{
    "datalore":{
     "type":"CODE",
     "hide_input_from_viewers":false,
     "hide_output_from_viewers":false
    }
   }
  },
  {
   "cell_type":"code",
   "source":[
    "X_train, X_test, y_train, y_test = train_test_split(df_adhd.drop(['adhd'], axis=1), df_adhd['adhd'], test_size=0.2, random_state=17)"
   ],
   "execution_count":25,
   "outputs":[
    
   ],
   "metadata":{
    "datalore":{
     "type":"CODE",
     "hide_input_from_viewers":false,
     "hide_output_from_viewers":false
    }
   }
  },
  {
   "cell_type":"code",
   "source":[
    "from sklearn.linear_model import LinearRegression, LogisticRegression\n",
    "from sklearn.ensemble import RandomForestClassifier, RandomForestRegressor\n",
    "import xgboost as xgb\n",
    "from xgboost.sklearn import XGBClassifier, XGBRegressor\n",
    "from sklearn.model_selection import GridSearchCV, validation_curve, learning_curve\n",
    "from sklearn.neighbors import KNeighborsClassifier\n",
    "from sklearn.pipeline import Pipeline\n",
    "from sklearn.preprocessing import StandardScaler\n",
    "from sklearn.metrics import confusion_matrix"
   ],
   "execution_count":26,
   "outputs":[
    
   ],
   "metadata":{
    "datalore":{
     "type":"CODE",
     "hide_input_from_viewers":false,
     "hide_output_from_viewers":false
    }
   }
  },
  {
   "cell_type":"code",
   "source":[
    "#классификаторы - хгбуст, к ближайших соседей, логистическая регрессия, случайный лес \n",
    "pipe = Pipeline([('preprocessing', StandardScaler()), ('classifier', LogisticRegression())])\n",
    "\n",
    "param_grid = [\n",
    "    {'classifier': [LogisticRegression()], 'preprocessing': [StandardScaler()], 'classifier__C': [0.001, 0.01, 0.1, 1, 10, 100]}, \n",
    "    {'classifier': [RandomForestClassifier()], 'preprocessing': [StandardScaler()], 'classifier__n_estimators': [10, 50, 100]},\n",
    "    {'classifier': [XGBClassifier(eval_metric='mlogloss')], 'preprocessing': [StandardScaler()], 'classifier__n_estimators': [10, 50, 100],\n",
    "                'classifier__max_depth': [2,4,5,10]},\n",
    "    {'classifier': [KNeighborsClassifier()], 'preprocessing': [StandardScaler()], 'classifier__n_neighbors': [2, 3, 4, 5]},\n",
    "]\n",
    "\n",
    "grid = GridSearchCV(pipe, param_grid=param_grid, cv=5)\n",
    "grid.fit(X_train, y_train)\n"
   ],
   "execution_count":27,
   "outputs":[
    {
     "data":{
      "text\/plain":[
       "GridSearchCV(cv=5,\n",
       "             estimator=Pipeline(steps=[('preprocessing', StandardScaler()),\n",
       "                                       ('classifier', LogisticRegression())]),\n",
       "             param_grid=[{'classifier': [LogisticRegression()],\n",
       "                          'classifier__C': [0.001, 0.01, 0.1, 1, 10, 100],\n",
       "                          'preprocessing': [StandardScaler()]},\n",
       "                         {'classifier': [RandomForestClassifier(n_estimators=10)],\n",
       "                          'classifier__n_estimators': [10, 50, 100],\n",
       "                          'preprocess...\n",
       "                                                       random_state=None,\n",
       "                                                       reg_alpha=None,\n",
       "                                                       reg_lambda=None,\n",
       "                                                       scale_pos_weight=None,\n",
       "                                                       subsample=None,\n",
       "                                                       tree_method=None,\n",
       "                                                       validate_parameters=None,\n",
       "                                                       verbosity=None)],\n",
       "                          'classifier__max_depth': [2, 4, 5, 10],\n",
       "                          'classifier__n_estimators': [10, 50, 100],\n",
       "                          'preprocessing': [StandardScaler()]},\n",
       "                         {'classifier': [KNeighborsClassifier()],\n",
       "                          'classifier__n_neighbors': [2, 3, 4, 5],\n",
       "                          'preprocessing': [StandardScaler()]}])"
      ]
     },
     "metadata":{
      
     },
     "output_type":"display_data"
    }
   ],
   "metadata":{
    "datalore":{
     "type":"CODE",
     "hide_input_from_viewers":false,
     "hide_output_from_viewers":false
    }
   }
  },
  {
   "cell_type":"code",
   "source":[
    "print(\"Best params:\\n{}\\n\".format(grid.best_params_))\n",
    "print(\"Best cross-validation score: {:.2f}\".format(grid.best_score_))\n",
    "print(\"Test-set score: {:.2f}\".format(grid.score(X_test, y_test)))"
   ],
   "execution_count":28,
   "outputs":[
    {
     "name":"stdout",
     "text":[
      "Best params:\n",
      "{'classifier': RandomForestClassifier(n_estimators=10), 'classifier__n_estimators': 10, 'preprocessing': StandardScaler()}\n",
      "\n",
      "Best cross-validation score: 0.79\n",
      "Test-set score: 0.17\n"
     ],
     "output_type":"stream"
    }
   ],
   "metadata":{
    "datalore":{
     "type":"CODE",
     "hide_input_from_viewers":false,
     "hide_output_from_viewers":false
    }
   }
  },
  {
   "cell_type":"code",
   "source":[
    "grid.cv_results_"
   ],
   "execution_count":29,
   "outputs":[
    {
     "data":{
      "text\/plain":[
       "{'mean_fit_time': array([0.00984855, 0.00914259, 0.0091248 , 0.00957794, 0.01012588,\n",
       "        0.01032128, 0.02323375, 0.08568473, 0.16309152, 0.04997892,\n",
       "        0.16462936, 0.31190481, 0.04791694, 0.16625724, 0.30799398,\n",
       "        0.04582596, 0.16429572, 0.30962968, 0.04826503, 0.16798992,\n",
       "        0.31335015, 0.00561986, 0.00557981, 0.00552354, 0.00535655]),\n",
       " 'std_fit_time': array([7.86683733e-04, 1.10150767e-04, 9.81716575e-05, 2.28046213e-04,\n",
       "        2.91184662e-04, 2.34770841e-04, 1.70313624e-03, 1.36841581e-04,\n",
       "        1.42458003e-03, 1.05700795e-02, 2.81665909e-03, 8.36766533e-03,\n",
       "        1.56197572e-03, 5.28167189e-03, 5.49503947e-03, 9.77113629e-04,\n",
       "        3.78183024e-03, 8.47400982e-03, 1.12200688e-03, 5.80565911e-03,\n",
       "        5.79572795e-03, 1.01911670e-04, 2.92198870e-05, 1.64501536e-04,\n",
       "        6.52969251e-05]),\n",
       " 'mean_score_time': array([0.00259666, 0.00263219, 0.00260983, 0.00271688, 0.00265903,\n",
       "        0.00273242, 0.00458603, 0.00991783, 0.01620798, 0.00657253,\n",
       "        0.00632114, 0.00619583, 0.00637846, 0.00618696, 0.00623226,\n",
       "        0.00619454, 0.00616698, 0.0064405 , 0.00633559, 0.00643396,\n",
       "        0.0062181 , 0.00337334, 0.00335889, 0.00332212, 0.00323415]),\n",
       " 'std_score_time': array([5.67787526e-05, 6.79634983e-05, 4.73589807e-05, 6.14229563e-05,\n",
       "        4.64473171e-05, 5.47139420e-05, 4.09684434e-05, 4.86594973e-05,\n",
       "        3.39842997e-04, 1.17016988e-03, 2.84792660e-04, 2.47570317e-04,\n",
       "        2.49943620e-04, 1.44284889e-04, 1.86199690e-04, 1.66996066e-04,\n",
       "        2.19750827e-04, 2.91930932e-04, 2.42853338e-04, 1.96557922e-04,\n",
       "        2.28908984e-04, 5.50063027e-05, 4.59991933e-05, 1.20860584e-04,\n",
       "        1.37813363e-05]),\n",
       " 'param_classifier': masked_array(data=[LogisticRegression(), LogisticRegression(),\n",
       "                    LogisticRegression(), LogisticRegression(),\n",
       "                    LogisticRegression(), LogisticRegression(),\n",
       "                    RandomForestClassifier(n_estimators=10),\n",
       "                    RandomForestClassifier(n_estimators=10),\n",
       "                    RandomForestClassifier(n_estimators=10),\n",
       "                    XGBClassifier(base_score=None, booster=None, colsample_bylevel=None,\n",
       "               colsample_bynode=None, colsample_bytree=None,\n",
       "               enable_categorical=False, eval_metric='mlogloss', gamma=None,\n",
       "               gpu_id=None, importance_type=None, interaction_constraints=None,\n",
       "               learning_rate=None, max_delta_step=None, max_depth=None,\n",
       "               min_child_weight=None, missing=nan, monotone_constraints=None,\n",
       "               n_estimators=100, n_jobs=None, num_parallel_tree=None,\n",
       "               predictor=None, random_state=None, reg_alpha=None,\n",
       "               reg_lambda=None, scale_pos_weight=None, subsample=None,\n",
       "               tree_method=None, validate_parameters=None, verbosity=None),\n",
       "                    XGBClassifier(base_score=None, booster=None, colsample_bylevel=None,\n",
       "               colsample_bynode=None, colsample_bytree=None,\n",
       "               enable_categorical=False, eval_metric='mlogloss', gamma=None,\n",
       "               gpu_id=None, importance_type=None, interaction_constraints=None,\n",
       "               learning_rate=None, max_delta_step=None, max_depth=None,\n",
       "               min_child_weight=None, missing=nan, monotone_constraints=None,\n",
       "               n_estimators=100, n_jobs=None, num_parallel_tree=None,\n",
       "               predictor=None, random_state=None, reg_alpha=None,\n",
       "               reg_lambda=None, scale_pos_weight=None, subsample=None,\n",
       "               tree_method=None, validate_parameters=None, verbosity=None),\n",
       "                    XGBClassifier(base_score=None, booster=None, colsample_bylevel=None,\n",
       "               colsample_bynode=None, colsample_bytree=None,\n",
       "               enable_categorical=False, eval_metric='mlogloss', gamma=None,\n",
       "               gpu_id=None, importance_type=None, interaction_constraints=None,\n",
       "               learning_rate=None, max_delta_step=None, max_depth=None,\n",
       "               min_child_weight=None, missing=nan, monotone_constraints=None,\n",
       "               n_estimators=100, n_jobs=None, num_parallel_tree=None,\n",
       "               predictor=None, random_state=None, reg_alpha=None,\n",
       "               reg_lambda=None, scale_pos_weight=None, subsample=None,\n",
       "               tree_method=None, validate_parameters=None, verbosity=None),\n",
       "                    XGBClassifier(base_score=None, booster=None, colsample_bylevel=None,\n",
       "               colsample_bynode=None, colsample_bytree=None,\n",
       "               enable_categorical=False, eval_metric='mlogloss', gamma=None,\n",
       "               gpu_id=None, importance_type=None, interaction_constraints=None,\n",
       "               learning_rate=None, max_delta_step=None, max_depth=None,\n",
       "               min_child_weight=None, missing=nan, monotone_constraints=None,\n",
       "               n_estimators=100, n_jobs=None, num_parallel_tree=None,\n",
       "               predictor=None, random_state=None, reg_alpha=None,\n",
       "               reg_lambda=None, scale_pos_weight=None, subsample=None,\n",
       "               tree_method=None, validate_parameters=None, verbosity=None),\n",
       "                    XGBClassifier(base_score=None, booster=None, colsample_bylevel=None,\n",
       "               colsample_bynode=None, colsample_bytree=None,\n",
       "               enable_categorical=False, eval_metric='mlogloss', gamma=None,\n",
       "               gpu_id=None, importance_type=None, interaction_constraints=None,\n",
       "               learning_rate=None, max_delta_step=None, max_depth=None,\n",
       "               min_child_weight=None, missing=nan, monotone_constraints=None,\n",
       "               n_estimators=100, n_jobs=None, num_parallel_tree=None,\n",
       "               predictor=None, random_state=None, reg_alpha=None,\n",
       "               reg_lambda=None, scale_pos_weight=None, subsample=None,\n",
       "               tree_method=None, validate_parameters=None, verbosity=None),\n",
       "                    XGBClassifier(base_score=None, booster=None, colsample_bylevel=None,\n",
       "               colsample_bynode=None, colsample_bytree=None,\n",
       "               enable_categorical=False, eval_metric='mlogloss', gamma=None,\n",
       "               gpu_id=None, importance_type=None, interaction_constraints=None,\n",
       "               learning_rate=None, max_delta_step=None, max_depth=None,\n",
       "               min_child_weight=None, missing=nan, monotone_constraints=None,\n",
       "               n_estimators=100, n_jobs=None, num_parallel_tree=None,\n",
       "               predictor=None, random_state=None, reg_alpha=None,\n",
       "               reg_lambda=None, scale_pos_weight=None, subsample=None,\n",
       "               tree_method=None, validate_parameters=None, verbosity=None),\n",
       "                    XGBClassifier(base_score=None, booster=None, colsample_bylevel=None,\n",
       "               colsample_bynode=None, colsample_bytree=None,\n",
       "               enable_categorical=False, eval_metric='mlogloss', gamma=None,\n",
       "               gpu_id=None, importance_type=None, interaction_constraints=None,\n",
       "               learning_rate=None, max_delta_step=None, max_depth=None,\n",
       "               min_child_weight=None, missing=nan, monotone_constraints=None,\n",
       "               n_estimators=100, n_jobs=None, num_parallel_tree=None,\n",
       "               predictor=None, random_state=None, reg_alpha=None,\n",
       "               reg_lambda=None, scale_pos_weight=None, subsample=None,\n",
       "               tree_method=None, validate_parameters=None, verbosity=None),\n",
       "                    XGBClassifier(base_score=None, booster=None, colsample_bylevel=None,\n",
       "               colsample_bynode=None, colsample_bytree=None,\n",
       "               enable_categorical=False, eval_metric='mlogloss', gamma=None,\n",
       "               gpu_id=None, importance_type=None, interaction_constraints=None,\n",
       "               learning_rate=None, max_delta_step=None, max_depth=None,\n",
       "               min_child_weight=None, missing=nan, monotone_constraints=None,\n",
       "               n_estimators=100, n_jobs=None, num_parallel_tree=None,\n",
       "               predictor=None, random_state=None, reg_alpha=None,\n",
       "               reg_lambda=None, scale_pos_weight=None, subsample=None,\n",
       "               tree_method=None, validate_parameters=None, verbosity=None),\n",
       "                    XGBClassifier(base_score=None, booster=None, colsample_bylevel=None,\n",
       "               colsample_bynode=None, colsample_bytree=None,\n",
       "               enable_categorical=False, eval_metric='mlogloss', gamma=None,\n",
       "               gpu_id=None, importance_type=None, interaction_constraints=None,\n",
       "               learning_rate=None, max_delta_step=None, max_depth=None,\n",
       "               min_child_weight=None, missing=nan, monotone_constraints=None,\n",
       "               n_estimators=100, n_jobs=None, num_parallel_tree=None,\n",
       "               predictor=None, random_state=None, reg_alpha=None,\n",
       "               reg_lambda=None, scale_pos_weight=None, subsample=None,\n",
       "               tree_method=None, validate_parameters=None, verbosity=None),\n",
       "                    XGBClassifier(base_score=None, booster=None, colsample_bylevel=None,\n",
       "               colsample_bynode=None, colsample_bytree=None,\n",
       "               enable_categorical=False, eval_metric='mlogloss', gamma=None,\n",
       "               gpu_id=None, importance_type=None, interaction_constraints=None,\n",
       "               learning_rate=None, max_delta_step=None, max_depth=None,\n",
       "               min_child_weight=None, missing=nan, monotone_constraints=None,\n",
       "               n_estimators=100, n_jobs=None, num_parallel_tree=None,\n",
       "               predictor=None, random_state=None, reg_alpha=None,\n",
       "               reg_lambda=None, scale_pos_weight=None, subsample=None,\n",
       "               tree_method=None, validate_parameters=None, verbosity=None),\n",
       "                    XGBClassifier(base_score=None, booster=None, colsample_bylevel=None,\n",
       "               colsample_bynode=None, colsample_bytree=None,\n",
       "               enable_categorical=False, eval_metric='mlogloss', gamma=None,\n",
       "               gpu_id=None, importance_type=None, interaction_constraints=None,\n",
       "               learning_rate=None, max_delta_step=None, max_depth=None,\n",
       "               min_child_weight=None, missing=nan, monotone_constraints=None,\n",
       "               n_estimators=100, n_jobs=None, num_parallel_tree=None,\n",
       "               predictor=None, random_state=None, reg_alpha=None,\n",
       "               reg_lambda=None, scale_pos_weight=None, subsample=None,\n",
       "               tree_method=None, validate_parameters=None, verbosity=None),\n",
       "                    XGBClassifier(base_score=None, booster=None, colsample_bylevel=None,\n",
       "               colsample_bynode=None, colsample_bytree=None,\n",
       "               enable_categorical=False, eval_metric='mlogloss', gamma=None,\n",
       "               gpu_id=None, importance_type=None, interaction_constraints=None,\n",
       "               learning_rate=None, max_delta_step=None, max_depth=None,\n",
       "               min_child_weight=None, missing=nan, monotone_constraints=None,\n",
       "               n_estimators=100, n_jobs=None, num_parallel_tree=None,\n",
       "               predictor=None, random_state=None, reg_alpha=None,\n",
       "               reg_lambda=None, scale_pos_weight=None, subsample=None,\n",
       "               tree_method=None, validate_parameters=None, verbosity=None),\n",
       "                    KNeighborsClassifier(), KNeighborsClassifier(),\n",
       "                    KNeighborsClassifier(), KNeighborsClassifier()],\n",
       "              mask=[False, False, False, False, False, False, False, False,\n",
       "                    False, False, False, False, False, False, False, False,\n",
       "                    False, False, False, False, False, False, False, False,\n",
       "                    False],\n",
       "        fill_value='?',\n",
       "             dtype=object),\n",
       " 'param_classifier__C': masked_array(data=[0.001, 0.01, 0.1, 1, 10, 100, --, --, --, --, --, --,\n",
       "                    --, --, --, --, --, --, --, --, --, --, --, --, --],\n",
       "              mask=[False, False, False, False, False, False,  True,  True,\n",
       "                     True,  True,  True,  True,  True,  True,  True,  True,\n",
       "                     True,  True,  True,  True,  True,  True,  True,  True,\n",
       "                     True],\n",
       "        fill_value='?',\n",
       "             dtype=object),\n",
       " 'param_preprocessing': masked_array(data=[StandardScaler(), StandardScaler(), StandardScaler(),\n",
       "                    StandardScaler(), StandardScaler(), StandardScaler(),\n",
       "                    StandardScaler(), StandardScaler(), StandardScaler(),\n",
       "                    StandardScaler(), StandardScaler(), StandardScaler(),\n",
       "                    StandardScaler(), StandardScaler(), StandardScaler(),\n",
       "                    StandardScaler(), StandardScaler(), StandardScaler(),\n",
       "                    StandardScaler(), StandardScaler(), StandardScaler(),\n",
       "                    StandardScaler(), StandardScaler(), StandardScaler(),\n",
       "                    StandardScaler()],\n",
       "              mask=[False, False, False, False, False, False, False, False,\n",
       "                    False, False, False, False, False, False, False, False,\n",
       "                    False, False, False, False, False, False, False, False,\n",
       "                    False],\n",
       "        fill_value='?',\n",
       "             dtype=object),\n",
       " 'param_classifier__n_estimators': masked_array(data=[--, --, --, --, --, --, 10, 50, 100, 10, 50, 100, 10,\n",
       "                    50, 100, 10, 50, 100, 10, 50, 100, --, --, --, --],\n",
       "              mask=[ True,  True,  True,  True,  True,  True, False, False,\n",
       "                    False, False, False, False, False, False, False, False,\n",
       "                    False, False, False, False, False,  True,  True,  True,\n",
       "                     True],\n",
       "        fill_value='?',\n",
       "             dtype=object),\n",
       " 'param_classifier__max_depth': masked_array(data=[--, --, --, --, --, --, --, --, --, 2, 2, 2, 4, 4, 4,\n",
       "                    5, 5, 5, 10, 10, 10, --, --, --, --],\n",
       "              mask=[ True,  True,  True,  True,  True,  True,  True,  True,\n",
       "                     True, False, False, False, False, False, False, False,\n",
       "                    False, False, False, False, False,  True,  True,  True,\n",
       "                     True],\n",
       "        fill_value='?',\n",
       "             dtype=object),\n",
       " 'param_classifier__n_neighbors': masked_array(data=[--, --, --, --, --, --, --, --, --, --, --, --, --, --,\n",
       "                    --, --, --, --, --, --, --, 2, 3, 4, 5],\n",
       "              mask=[ True,  True,  True,  True,  True,  True,  True,  True,\n",
       "                     True,  True,  True,  True,  True,  True,  True,  True,\n",
       "                     True,  True,  True,  True,  True, False, False, False,\n",
       "                    False],\n",
       "        fill_value='?',\n",
       "             dtype=object),\n",
       " 'params': [{'classifier': LogisticRegression(),\n",
       "   'classifier__C': 0.001,\n",
       "   'preprocessing': StandardScaler()},\n",
       "  {'classifier': LogisticRegression(),\n",
       "   'classifier__C': 0.01,\n",
       "   'preprocessing': StandardScaler()},\n",
       "  {'classifier': LogisticRegression(),\n",
       "   'classifier__C': 0.1,\n",
       "   'preprocessing': StandardScaler()},\n",
       "  {'classifier': LogisticRegression(),\n",
       "   'classifier__C': 1,\n",
       "   'preprocessing': StandardScaler()},\n",
       "  {'classifier': LogisticRegression(),\n",
       "   'classifier__C': 10,\n",
       "   'preprocessing': StandardScaler()},\n",
       "  {'classifier': LogisticRegression(),\n",
       "   'classifier__C': 100,\n",
       "   'preprocessing': StandardScaler()},\n",
       "  {'classifier': RandomForestClassifier(n_estimators=10),\n",
       "   'classifier__n_estimators': 10,\n",
       "   'preprocessing': StandardScaler()},\n",
       "  {'classifier': RandomForestClassifier(n_estimators=10),\n",
       "   'classifier__n_estimators': 50,\n",
       "   'preprocessing': StandardScaler()},\n",
       "  {'classifier': RandomForestClassifier(n_estimators=10),\n",
       "   'classifier__n_estimators': 100,\n",
       "   'preprocessing': StandardScaler()},\n",
       "  {'classifier': XGBClassifier(base_score=None, booster=None, colsample_bylevel=None,\n",
       "                 colsample_bynode=None, colsample_bytree=None,\n",
       "                 enable_categorical=False, eval_metric='mlogloss', gamma=None,\n",
       "                 gpu_id=None, importance_type=None, interaction_constraints=None,\n",
       "                 learning_rate=None, max_delta_step=None, max_depth=None,\n",
       "                 min_child_weight=None, missing=nan, monotone_constraints=None,\n",
       "                 n_estimators=100, n_jobs=None, num_parallel_tree=None,\n",
       "                 predictor=None, random_state=None, reg_alpha=None,\n",
       "                 reg_lambda=None, scale_pos_weight=None, subsample=None,\n",
       "                 tree_method=None, validate_parameters=None, verbosity=None),\n",
       "   'classifier__max_depth': 2,\n",
       "   'classifier__n_estimators': 10,\n",
       "   'preprocessing': StandardScaler()},\n",
       "  {'classifier': XGBClassifier(base_score=None, booster=None, colsample_bylevel=None,\n",
       "                 colsample_bynode=None, colsample_bytree=None,\n",
       "                 enable_categorical=False, eval_metric='mlogloss', gamma=None,\n",
       "                 gpu_id=None, importance_type=None, interaction_constraints=None,\n",
       "                 learning_rate=None, max_delta_step=None, max_depth=None,\n",
       "                 min_child_weight=None, missing=nan, monotone_constraints=None,\n",
       "                 n_estimators=100, n_jobs=None, num_parallel_tree=None,\n",
       "                 predictor=None, random_state=None, reg_alpha=None,\n",
       "                 reg_lambda=None, scale_pos_weight=None, subsample=None,\n",
       "                 tree_method=None, validate_parameters=None, verbosity=None),\n",
       "   'classifier__max_depth': 2,\n",
       "   'classifier__n_estimators': 50,\n",
       "   'preprocessing': StandardScaler()},\n",
       "  {'classifier': XGBClassifier(base_score=None, booster=None, colsample_bylevel=None,\n",
       "                 colsample_bynode=None, colsample_bytree=None,\n",
       "                 enable_categorical=False, eval_metric='mlogloss', gamma=None,\n",
       "                 gpu_id=None, importance_type=None, interaction_constraints=None,\n",
       "                 learning_rate=None, max_delta_step=None, max_depth=None,\n",
       "                 min_child_weight=None, missing=nan, monotone_constraints=None,\n",
       "                 n_estimators=100, n_jobs=None, num_parallel_tree=None,\n",
       "                 predictor=None, random_state=None, reg_alpha=None,\n",
       "                 reg_lambda=None, scale_pos_weight=None, subsample=None,\n",
       "                 tree_method=None, validate_parameters=None, verbosity=None),\n",
       "   'classifier__max_depth': 2,\n",
       "   'classifier__n_estimators': 100,\n",
       "   'preprocessing': StandardScaler()},\n",
       "  {'classifier': XGBClassifier(base_score=None, booster=None, colsample_bylevel=None,\n",
       "                 colsample_bynode=None, colsample_bytree=None,\n",
       "                 enable_categorical=False, eval_metric='mlogloss', gamma=None,\n",
       "                 gpu_id=None, importance_type=None, interaction_constraints=None,\n",
       "                 learning_rate=None, max_delta_step=None, max_depth=None,\n",
       "                 min_child_weight=None, missing=nan, monotone_constraints=None,\n",
       "                 n_estimators=100, n_jobs=None, num_parallel_tree=None,\n",
       "                 predictor=None, random_state=None, reg_alpha=None,\n",
       "                 reg_lambda=None, scale_pos_weight=None, subsample=None,\n",
       "                 tree_method=None, validate_parameters=None, verbosity=None),\n",
       "   'classifier__max_depth': 4,\n",
       "   'classifier__n_estimators': 10,\n",
       "   'preprocessing': StandardScaler()},\n",
       "  {'classifier': XGBClassifier(base_score=None, booster=None, colsample_bylevel=None,\n",
       "                 colsample_bynode=None, colsample_bytree=None,\n",
       "                 enable_categorical=False, eval_metric='mlogloss', gamma=None,\n",
       "                 gpu_id=None, importance_type=None, interaction_constraints=None,\n",
       "                 learning_rate=None, max_delta_step=None, max_depth=None,\n",
       "                 min_child_weight=None, missing=nan, monotone_constraints=None,\n",
       "                 n_estimators=100, n_jobs=None, num_parallel_tree=None,\n",
       "                 predictor=None, random_state=None, reg_alpha=None,\n",
       "                 reg_lambda=None, scale_pos_weight=None, subsample=None,\n",
       "                 tree_method=None, validate_parameters=None, verbosity=None),\n",
       "   'classifier__max_depth': 4,\n",
       "   'classifier__n_estimators': 50,\n",
       "   'preprocessing': StandardScaler()},\n",
       "  {'classifier': XGBClassifier(base_score=None, booster=None, colsample_bylevel=None,\n",
       "                 colsample_bynode=None, colsample_bytree=None,\n",
       "                 enable_categorical=False, eval_metric='mlogloss', gamma=None,\n",
       "                 gpu_id=None, importance_type=None, interaction_constraints=None,\n",
       "                 learning_rate=None, max_delta_step=None, max_depth=None,\n",
       "                 min_child_weight=None, missing=nan, monotone_constraints=None,\n",
       "                 n_estimators=100, n_jobs=None, num_parallel_tree=None,\n",
       "                 predictor=None, random_state=None, reg_alpha=None,\n",
       "                 reg_lambda=None, scale_pos_weight=None, subsample=None,\n",
       "                 tree_method=None, validate_parameters=None, verbosity=None),\n",
       "   'classifier__max_depth': 4,\n",
       "   'classifier__n_estimators': 100,\n",
       "   'preprocessing': StandardScaler()},\n",
       "  {'classifier': XGBClassifier(base_score=None, booster=None, colsample_bylevel=None,\n",
       "                 colsample_bynode=None, colsample_bytree=None,\n",
       "                 enable_categorical=False, eval_metric='mlogloss', gamma=None,\n",
       "                 gpu_id=None, importance_type=None, interaction_constraints=None,\n",
       "                 learning_rate=None, max_delta_step=None, max_depth=None,\n",
       "                 min_child_weight=None, missing=nan, monotone_constraints=None,\n",
       "                 n_estimators=100, n_jobs=None, num_parallel_tree=None,\n",
       "                 predictor=None, random_state=None, reg_alpha=None,\n",
       "                 reg_lambda=None, scale_pos_weight=None, subsample=None,\n",
       "                 tree_method=None, validate_parameters=None, verbosity=None),\n",
       "   'classifier__max_depth': 5,\n",
       "   'classifier__n_estimators': 10,\n",
       "   'preprocessing': StandardScaler()},\n",
       "  {'classifier': XGBClassifier(base_score=None, booster=None, colsample_bylevel=None,\n",
       "                 colsample_bynode=None, colsample_bytree=None,\n",
       "                 enable_categorical=False, eval_metric='mlogloss', gamma=None,\n",
       "                 gpu_id=None, importance_type=None, interaction_constraints=None,\n",
       "                 learning_rate=None, max_delta_step=None, max_depth=None,\n",
       "                 min_child_weight=None, missing=nan, monotone_constraints=None,\n",
       "                 n_estimators=100, n_jobs=None, num_parallel_tree=None,\n",
       "                 predictor=None, random_state=None, reg_alpha=None,\n",
       "                 reg_lambda=None, scale_pos_weight=None, subsample=None,\n",
       "                 tree_method=None, validate_parameters=None, verbosity=None),\n",
       "   'classifier__max_depth': 5,\n",
       "   'classifier__n_estimators': 50,\n",
       "   'preprocessing': StandardScaler()},\n",
       "  {'classifier': XGBClassifier(base_score=None, booster=None, colsample_bylevel=None,\n",
       "                 colsample_bynode=None, colsample_bytree=None,\n",
       "                 enable_categorical=False, eval_metric='mlogloss', gamma=None,\n",
       "                 gpu_id=None, importance_type=None, interaction_constraints=None,\n",
       "                 learning_rate=None, max_delta_step=None, max_depth=None,\n",
       "                 min_child_weight=None, missing=nan, monotone_constraints=None,\n",
       "                 n_estimators=100, n_jobs=None, num_parallel_tree=None,\n",
       "                 predictor=None, random_state=None, reg_alpha=None,\n",
       "                 reg_lambda=None, scale_pos_weight=None, subsample=None,\n",
       "                 tree_method=None, validate_parameters=None, verbosity=None),\n",
       "   'classifier__max_depth': 5,\n",
       "   'classifier__n_estimators': 100,\n",
       "   'preprocessing': StandardScaler()},\n",
       "  {'classifier': XGBClassifier(base_score=None, booster=None, colsample_bylevel=None,\n",
       "                 colsample_bynode=None, colsample_bytree=None,\n",
       "                 enable_categorical=False, eval_metric='mlogloss', gamma=None,\n",
       "                 gpu_id=None, importance_type=None, interaction_constraints=None,\n",
       "                 learning_rate=None, max_delta_step=None, max_depth=None,\n",
       "                 min_child_weight=None, missing=nan, monotone_constraints=None,\n",
       "                 n_estimators=100, n_jobs=None, num_parallel_tree=None,\n",
       "                 predictor=None, random_state=None, reg_alpha=None,\n",
       "                 reg_lambda=None, scale_pos_weight=None, subsample=None,\n",
       "                 tree_method=None, validate_parameters=None, verbosity=None),\n",
       "   'classifier__max_depth': 10,\n",
       "   'classifier__n_estimators': 10,\n",
       "   'preprocessing': StandardScaler()},\n",
       "  {'classifier': XGBClassifier(base_score=None, booster=None, colsample_bylevel=None,\n",
       "                 colsample_bynode=None, colsample_bytree=None,\n",
       "                 enable_categorical=False, eval_metric='mlogloss', gamma=None,\n",
       "                 gpu_id=None, importance_type=None, interaction_constraints=None,\n",
       "                 learning_rate=None, max_delta_step=None, max_depth=None,\n",
       "                 min_child_weight=None, missing=nan, monotone_constraints=None,\n",
       "                 n_estimators=100, n_jobs=None, num_parallel_tree=None,\n",
       "                 predictor=None, random_state=None, reg_alpha=None,\n",
       "                 reg_lambda=None, scale_pos_weight=None, subsample=None,\n",
       "                 tree_method=None, validate_parameters=None, verbosity=None),\n",
       "   'classifier__max_depth': 10,\n",
       "   'classifier__n_estimators': 50,\n",
       "   'preprocessing': StandardScaler()},\n",
       "  {'classifier': XGBClassifier(base_score=None, booster=None, colsample_bylevel=None,\n",
       "                 colsample_bynode=None, colsample_bytree=None,\n",
       "                 enable_categorical=False, eval_metric='mlogloss', gamma=None,\n",
       "                 gpu_id=None, importance_type=None, interaction_constraints=None,\n",
       "                 learning_rate=None, max_delta_step=None, max_depth=None,\n",
       "                 min_child_weight=None, missing=nan, monotone_constraints=None,\n",
       "                 n_estimators=100, n_jobs=None, num_parallel_tree=None,\n",
       "                 predictor=None, random_state=None, reg_alpha=None,\n",
       "                 reg_lambda=None, scale_pos_weight=None, subsample=None,\n",
       "                 tree_method=None, validate_parameters=None, verbosity=None),\n",
       "   'classifier__max_depth': 10,\n",
       "   'classifier__n_estimators': 100,\n",
       "   'preprocessing': StandardScaler()},\n",
       "  {'classifier': KNeighborsClassifier(),\n",
       "   'classifier__n_neighbors': 2,\n",
       "   'preprocessing': StandardScaler()},\n",
       "  {'classifier': KNeighborsClassifier(),\n",
       "   'classifier__n_neighbors': 3,\n",
       "   'preprocessing': StandardScaler()},\n",
       "  {'classifier': KNeighborsClassifier(),\n",
       "   'classifier__n_neighbors': 4,\n",
       "   'preprocessing': StandardScaler()},\n",
       "  {'classifier': KNeighborsClassifier(),\n",
       "   'classifier__n_neighbors': 5,\n",
       "   'preprocessing': StandardScaler()}],\n",
       " 'split0_test_score': array([0.6, 0.6, 0.4, 0.8, 0.8, 0.8, 0.8, 0.6, 0.2, 0.4, 0.4, 0.4, 0.4,\n",
       "        0.4, 0.4, 0.4, 0.4, 0.4, 0.4, 0.4, 0.4, 0.4, 0. , 0.4, 0.6]),\n",
       " 'split1_test_score': array([0.6, 0.6, 0.8, 0.6, 0.6, 0.6, 0.8, 0.8, 0.4, 0.8, 0.8, 0.8, 0.8,\n",
       "        0.8, 0.8, 0.8, 0.8, 0.8, 0.8, 0.8, 0.8, 0.4, 0.6, 0.8, 0.8]),\n",
       " 'split2_test_score': array([0.6, 0.6, 0.4, 0.4, 0.4, 0.4, 0.8, 0.4, 0.6, 0.8, 0.8, 0.8, 0.8,\n",
       "        0.8, 0.8, 0.8, 0.8, 0.8, 0.8, 0.8, 0.8, 0.4, 0.6, 0.8, 0.6]),\n",
       " 'split3_test_score': array([0.4, 0.4, 0.4, 0.8, 0.8, 0.8, 0.8, 0.4, 0.4, 0.8, 0.8, 0.8, 0.8,\n",
       "        0.8, 0.8, 0.8, 0.8, 0.8, 0.8, 0.8, 0.8, 0.4, 0.8, 0.6, 0.8]),\n",
       " 'split4_test_score': array([0.5 , 0.5 , 0.5 , 0.75, 0.75, 0.75, 0.75, 0.25, 0.75, 0.75, 0.75,\n",
       "        0.75, 0.75, 0.75, 0.75, 0.75, 0.75, 0.75, 0.75, 0.75, 0.75, 0.75,\n",
       "        0.5 , 0.5 , 0.5 ]),\n",
       " 'mean_test_score': array([0.54, 0.54, 0.5 , 0.67, 0.67, 0.67, 0.79, 0.49, 0.47, 0.71, 0.71,\n",
       "        0.71, 0.71, 0.71, 0.71, 0.71, 0.71, 0.71, 0.71, 0.71, 0.71, 0.47,\n",
       "        0.5 , 0.62, 0.66]),\n",
       " 'std_test_score': array([0.08      , 0.08      , 0.15491933, 0.15362291, 0.15362291,\n",
       "        0.15362291, 0.02      , 0.19078784, 0.18867962, 0.15620499,\n",
       "        0.15620499, 0.15620499, 0.15620499, 0.15620499, 0.15620499,\n",
       "        0.15620499, 0.15620499, 0.15620499, 0.15620499, 0.15620499,\n",
       "        0.15620499, 0.14      , 0.26832816, 0.16      , 0.12      ]),\n",
       " 'rank_test_score': array([19, 19, 21, 14, 14, 14,  1, 23, 24,  2,  2,  2,  2,  2,  2,  2,  2,\n",
       "         2,  2,  2,  2, 24, 21, 18, 17], dtype=int32)}"
      ]
     },
     "metadata":{
      
     },
     "output_type":"display_data"
    }
   ],
   "metadata":{
    "datalore":{
     "type":"CODE",
     "hide_input_from_viewers":false,
     "hide_output_from_viewers":false
    }
   }
  },
  {
   "cell_type":"code",
   "source":[
    "#ну, с регрессией на тестовой выборке все вообще как-то очень плохо \n",
    "#сделаем функцию для графиков \n",
    "def plot_with_err(x, data, **kwargs):\n",
    "    mu, std = data.mean(1), data.std(1)\n",
    "    lines = plt.plot(x, mu, '-', **kwargs)\n",
    "    plt.fill_between(x, mu - std, mu + std, edgecolor='none',\n",
    "                     facecolor=lines[0].get_color(), alpha=0.2)"
   ],
   "execution_count":30,
   "outputs":[
    
   ],
   "metadata":{
    "datalore":{
     "type":"CODE",
     "hide_input_from_viewers":false,
     "hide_output_from_viewers":false
    }
   }
  },
  {
   "cell_type":"code",
   "source":[
    "#для хорошей жизни нам явно чего-то не хватает, чтобы посмотреть чего именно - можно использовать кривые обучения и валидации \n",
    "max_depth = [0.001, 0.01, 0.1, 1, 10, 100]\n",
    "val_train, val_test = validation_curve(pipe, X_train, y_train, param_name='classifier__C', param_range = max_depth, cv=5)\n",
    "\n",
    "plot_with_err(max_depth, val_train, label='training scores')\n",
    "plot_with_err(max_depth, val_test, label='validation scores')\n",
    "plt.xlabel('max_depth'); plt.ylabel('accuracy')\n",
    "plt.legend();"
   ],
   "execution_count":31,
   "outputs":[
    {
     "data":{
      "image\/png":"[encoded data removed]"
     },
     "metadata":{
      "image\/png":{
       
      }
     },
     "output_type":"display_data"
    }
   ],
   "metadata":{
    "datalore":{
     "type":"CODE",
     "hide_input_from_viewers":false,
     "hide_output_from_viewers":false
    }
   }
  },
  {
   "cell_type":"code",
   "source":[
    "def plot_learning_curve(C=10):\n",
    "    train_sizes = np.linspace(0.01, 1, 30)\n",
    "    grid.set_params(estimator__classifier__C=C)\n",
    "    N_train, val_train, val_test = learning_curve(pipe,\n",
    "                                                  X_train, y_train, train_sizes=train_sizes, cv=5,\n",
    "                                                  scoring='accuracy')\n",
    "    plot_with_err(N_train, val_train, label='training scores')\n",
    "    plot_with_err(N_train, val_test, label='validation scores')\n",
    "    plt.xlabel('Training Set Size'); plt.ylabel('Acc')\n",
    "    plt.legend()\n",
    "\n",
    "plot_learning_curve()"
   ],
   "execution_count":32,
   "outputs":[
    {
     "data":{
      "image\/png":"[encoded data removed]"
     },
     "metadata":{
      "image\/png":{
       
      }
     },
     "output_type":"display_data"
    }
   ],
   "metadata":{
    "datalore":{
     "type":"CODE",
     "hide_input_from_viewers":false,
     "hide_output_from_viewers":false
    }
   }
  },
  {
   "cell_type":"code",
   "source":[
    "columns = df_adhd.columns"
   ],
   "execution_count":33,
   "outputs":[
    
   ],
   "metadata":{
    "datalore":{
     "type":"CODE",
     "hide_input_from_viewers":false,
     "hide_output_from_viewers":false
    }
   }
  },
  {
   "cell_type":"code",
   "source":[
    "#кривые обучения не сошлись и на самом деле довольно далеко друг от друга. ну и это логично - данных мало\n",
    "#обрабатывать данные фмрт самостоятельно довольно долго и я это не умею, так что будет генерировать синтетик дата\n",
    "from ctgan import CTGANSynthesizer\n",
    "\n",
    "ctgan = CTGANSynthesizer(epochs=10)\n",
    "ctgan.fit(df_adhd, columns)\n",
    "\n",
    "synthetic_data = ctgan.sample(30)\n",
    "synthetic_data.head(5)"
   ],
   "execution_count":34,
   "outputs":[
    {
     "data":{
      "text\/html":[
       "<div>\n",
       "<style scoped>\n",
       "    .dataframe tbody tr th:only-of-type {\n",
       "        vertical-align: middle;\n",
       "    }\n",
       "\n",
       "    .dataframe tbody tr th {\n",
       "        vertical-align: top;\n",
       "    }\n",
       "\n",
       "    .dataframe thead th {\n",
       "        text-align: right;\n",
       "    }\n",
       "<\/style>\n",
       "<table border=\"1\" class=\"dataframe\">\n",
       "  <thead>\n",
       "    <tr style=\"text-align: right;\">\n",
       "      <th><\/th>\n",
       "      <th>0<\/th>\n",
       "      <th>1<\/th>\n",
       "      <th>2<\/th>\n",
       "      <th>3<\/th>\n",
       "      <th>4<\/th>\n",
       "      <th>5<\/th>\n",
       "      <th>6<\/th>\n",
       "      <th>7<\/th>\n",
       "      <th>8<\/th>\n",
       "      <th>9<\/th>\n",
       "      <th>...<\/th>\n",
       "      <th>17<\/th>\n",
       "      <th>18<\/th>\n",
       "      <th>19<\/th>\n",
       "      <th>20<\/th>\n",
       "      <th>21<\/th>\n",
       "      <th>22<\/th>\n",
       "      <th>23<\/th>\n",
       "      <th>24<\/th>\n",
       "      <th>25<\/th>\n",
       "      <th>adhd<\/th>\n",
       "    <\/tr>\n",
       "  <\/thead>\n",
       "  <tbody>\n",
       "    <tr>\n",
       "      <th>0<\/th>\n",
       "      <td>0.649274<\/td>\n",
       "      <td>0.618562<\/td>\n",
       "      <td>-0.386694<\/td>\n",
       "      <td>-1.080882<\/td>\n",
       "      <td>-0.590720<\/td>\n",
       "      <td>-0.681319<\/td>\n",
       "      <td>2.082686<\/td>\n",
       "      <td>0.294579<\/td>\n",
       "      <td>1.852440<\/td>\n",
       "      <td>-1.893288<\/td>\n",
       "      <td>...<\/td>\n",
       "      <td>-1.337730<\/td>\n",
       "      <td>1.141864<\/td>\n",
       "      <td>0.368446<\/td>\n",
       "      <td>-0.181648<\/td>\n",
       "      <td>-0.713811<\/td>\n",
       "      <td>0.321375<\/td>\n",
       "      <td>0.557223<\/td>\n",
       "      <td>0.662870<\/td>\n",
       "      <td>1.058421<\/td>\n",
       "      <td>0<\/td>\n",
       "    <\/tr>\n",
       "    <tr>\n",
       "      <th>1<\/th>\n",
       "      <td>-1.780713<\/td>\n",
       "      <td>0.883568<\/td>\n",
       "      <td>1.766756<\/td>\n",
       "      <td>3.216469<\/td>\n",
       "      <td>-0.827755<\/td>\n",
       "      <td>-1.618903<\/td>\n",
       "      <td>2.082686<\/td>\n",
       "      <td>-2.124739<\/td>\n",
       "      <td>1.296750<\/td>\n",
       "      <td>-1.893288<\/td>\n",
       "      <td>...<\/td>\n",
       "      <td>-1.631559<\/td>\n",
       "      <td>0.347737<\/td>\n",
       "      <td>0.459267<\/td>\n",
       "      <td>2.036742<\/td>\n",
       "      <td>0.243675<\/td>\n",
       "      <td>0.405404<\/td>\n",
       "      <td>1.968022<\/td>\n",
       "      <td>1.610422<\/td>\n",
       "      <td>0.287022<\/td>\n",
       "      <td>1<\/td>\n",
       "    <\/tr>\n",
       "    <tr>\n",
       "      <th>2<\/th>\n",
       "      <td>-0.587500<\/td>\n",
       "      <td>-1.661088<\/td>\n",
       "      <td>-1.193796<\/td>\n",
       "      <td>-1.083969<\/td>\n",
       "      <td>0.338227<\/td>\n",
       "      <td>1.734724<\/td>\n",
       "      <td>-0.715714<\/td>\n",
       "      <td>-0.823792<\/td>\n",
       "      <td>0.045335<\/td>\n",
       "      <td>1.096461<\/td>\n",
       "      <td>...<\/td>\n",
       "      <td>-1.199718<\/td>\n",
       "      <td>0.221193<\/td>\n",
       "      <td>-1.244610<\/td>\n",
       "      <td>-0.011611<\/td>\n",
       "      <td>0.441458<\/td>\n",
       "      <td>0.294586<\/td>\n",
       "      <td>-0.128712<\/td>\n",
       "      <td>-0.247305<\/td>\n",
       "      <td>1.824208<\/td>\n",
       "      <td>0<\/td>\n",
       "    <\/tr>\n",
       "    <tr>\n",
       "      <th>3<\/th>\n",
       "      <td>-2.429528<\/td>\n",
       "      <td>-0.630067<\/td>\n",
       "      <td>1.157115<\/td>\n",
       "      <td>-2.214903<\/td>\n",
       "      <td>0.730304<\/td>\n",
       "      <td>-0.427201<\/td>\n",
       "      <td>-1.422197<\/td>\n",
       "      <td>0.839793<\/td>\n",
       "      <td>-0.276117<\/td>\n",
       "      <td>0.755098<\/td>\n",
       "      <td>...<\/td>\n",
       "      <td>0.400505<\/td>\n",
       "      <td>2.351990<\/td>\n",
       "      <td>1.559699<\/td>\n",
       "      <td>0.424186<\/td>\n",
       "      <td>0.441458<\/td>\n",
       "      <td>-0.126794<\/td>\n",
       "      <td>0.557223<\/td>\n",
       "      <td>1.610422<\/td>\n",
       "      <td>0.026256<\/td>\n",
       "      <td>1<\/td>\n",
       "    <\/tr>\n",
       "    <tr>\n",
       "      <th>4<\/th>\n",
       "      <td>-2.470186<\/td>\n",
       "      <td>1.039402<\/td>\n",
       "      <td>1.157115<\/td>\n",
       "      <td>-0.693149<\/td>\n",
       "      <td>-2.533147<\/td>\n",
       "      <td>-0.196881<\/td>\n",
       "      <td>-0.914042<\/td>\n",
       "      <td>-2.124739<\/td>\n",
       "      <td>-1.644149<\/td>\n",
       "      <td>1.096461<\/td>\n",
       "      <td>...<\/td>\n",
       "      <td>0.119970<\/td>\n",
       "      <td>-1.310207<\/td>\n",
       "      <td>-0.114865<\/td>\n",
       "      <td>2.036742<\/td>\n",
       "      <td>0.391437<\/td>\n",
       "      <td>2.254115<\/td>\n",
       "      <td>-0.248382<\/td>\n",
       "      <td>0.112149<\/td>\n",
       "      <td>0.381385<\/td>\n",
       "      <td>0<\/td>\n",
       "    <\/tr>\n",
       "  <\/tbody>\n",
       "<\/table>\n",
       "<p>5 rows × 27 columns<\/p>\n",
       "<\/div>"
      ]
     },
     "metadata":{
      
     },
     "output_type":"display_data"
    }
   ],
   "metadata":{
    "datalore":{
     "type":"CODE",
     "hide_input_from_viewers":false,
     "hide_output_from_viewers":false
    }
   }
  },
  {
   "cell_type":"code",
   "source":[
    "#теперь когда мы убедились что с синтетическими данными в целом все хорошо, попробуем запихнуть\n",
    "#их в модельку и понадеяться на лучшее \n",
    "df_adhd_synth = pd.concat([df_adhd, synthetic_data], axis=0)\n",
    "df_adhd_synth.head(5)"
   ],
   "execution_count":35,
   "outputs":[
    {
     "data":{
      "text\/html":[
       "<div>\n",
       "<style scoped>\n",
       "    .dataframe tbody tr th:only-of-type {\n",
       "        vertical-align: middle;\n",
       "    }\n",
       "\n",
       "    .dataframe tbody tr th {\n",
       "        vertical-align: top;\n",
       "    }\n",
       "\n",
       "    .dataframe thead th {\n",
       "        text-align: right;\n",
       "    }\n",
       "<\/style>\n",
       "<table border=\"1\" class=\"dataframe\">\n",
       "  <thead>\n",
       "    <tr style=\"text-align: right;\">\n",
       "      <th><\/th>\n",
       "      <th>0<\/th>\n",
       "      <th>1<\/th>\n",
       "      <th>2<\/th>\n",
       "      <th>3<\/th>\n",
       "      <th>4<\/th>\n",
       "      <th>5<\/th>\n",
       "      <th>6<\/th>\n",
       "      <th>7<\/th>\n",
       "      <th>8<\/th>\n",
       "      <th>9<\/th>\n",
       "      <th>...<\/th>\n",
       "      <th>17<\/th>\n",
       "      <th>18<\/th>\n",
       "      <th>19<\/th>\n",
       "      <th>20<\/th>\n",
       "      <th>21<\/th>\n",
       "      <th>22<\/th>\n",
       "      <th>23<\/th>\n",
       "      <th>24<\/th>\n",
       "      <th>25<\/th>\n",
       "      <th>adhd<\/th>\n",
       "    <\/tr>\n",
       "  <\/thead>\n",
       "  <tbody>\n",
       "    <tr>\n",
       "      <th>0<\/th>\n",
       "      <td>1.904906<\/td>\n",
       "      <td>-0.024966<\/td>\n",
       "      <td>4.092744<\/td>\n",
       "      <td>0.361890<\/td>\n",
       "      <td>-1.503911<\/td>\n",
       "      <td>-1.439143<\/td>\n",
       "      <td>0.809402<\/td>\n",
       "      <td>1.113619<\/td>\n",
       "      <td>-0.952892<\/td>\n",
       "      <td>-0.615148<\/td>\n",
       "      <td>...<\/td>\n",
       "      <td>0.464690<\/td>\n",
       "      <td>-0.506063<\/td>\n",
       "      <td>-0.456334<\/td>\n",
       "      <td>0.723828<\/td>\n",
       "      <td>0.232082<\/td>\n",
       "      <td>1.356453<\/td>\n",
       "      <td>0.385773<\/td>\n",
       "      <td>1.610422<\/td>\n",
       "      <td>-1.236748<\/td>\n",
       "      <td>1<\/td>\n",
       "    <\/tr>\n",
       "    <tr>\n",
       "      <th>1<\/th>\n",
       "      <td>-0.422353<\/td>\n",
       "      <td>-0.969937<\/td>\n",
       "      <td>-0.386694<\/td>\n",
       "      <td>-0.693149<\/td>\n",
       "      <td>0.272680<\/td>\n",
       "      <td>-1.103422<\/td>\n",
       "      <td>-0.639019<\/td>\n",
       "      <td>1.153164<\/td>\n",
       "      <td>-0.367149<\/td>\n",
       "      <td>2.672094<\/td>\n",
       "      <td>...<\/td>\n",
       "      <td>-0.505417<\/td>\n",
       "      <td>1.299206<\/td>\n",
       "      <td>1.524842<\/td>\n",
       "      <td>0.194186<\/td>\n",
       "      <td>-0.713811<\/td>\n",
       "      <td>2.254115<\/td>\n",
       "      <td>0.557223<\/td>\n",
       "      <td>-1.724015<\/td>\n",
       "      <td>0.287022<\/td>\n",
       "      <td>1<\/td>\n",
       "    <\/tr>\n",
       "    <tr>\n",
       "      <th>2<\/th>\n",
       "      <td>4.273800<\/td>\n",
       "      <td>1.039402<\/td>\n",
       "      <td>1.484356<\/td>\n",
       "      <td>-1.685655<\/td>\n",
       "      <td>-2.533147<\/td>\n",
       "      <td>0.723272<\/td>\n",
       "      <td>0.295050<\/td>\n",
       "      <td>-0.823792<\/td>\n",
       "      <td>-0.276117<\/td>\n",
       "      <td>-1.006712<\/td>\n",
       "      <td>...<\/td>\n",
       "      <td>-0.692387<\/td>\n",
       "      <td>0.458824<\/td>\n",
       "      <td>0.574788<\/td>\n",
       "      <td>-0.011611<\/td>\n",
       "      <td>0.554441<\/td>\n",
       "      <td>-0.359608<\/td>\n",
       "      <td>-0.693953<\/td>\n",
       "      <td>-0.706792<\/td>\n",
       "      <td>0.182340<\/td>\n",
       "      <td>0<\/td>\n",
       "    <\/tr>\n",
       "    <tr>\n",
       "      <th>3<\/th>\n",
       "      <td>0.890570<\/td>\n",
       "      <td>-0.865488<\/td>\n",
       "      <td>1.245415<\/td>\n",
       "      <td>-2.306438<\/td>\n",
       "      <td>-0.193912<\/td>\n",
       "      <td>0.158603<\/td>\n",
       "      <td>-0.315164<\/td>\n",
       "      <td>-0.628671<\/td>\n",
       "      <td>1.821789<\/td>\n",
       "      <td>1.096461<\/td>\n",
       "      <td>...<\/td>\n",
       "      <td>0.303769<\/td>\n",
       "      <td>-0.376316<\/td>\n",
       "      <td>-0.599384<\/td>\n",
       "      <td>-0.877762<\/td>\n",
       "      <td>-0.822198<\/td>\n",
       "      <td>-1.380867<\/td>\n",
       "      <td>0.331443<\/td>\n",
       "      <td>0.112149<\/td>\n",
       "      <td>1.824208<\/td>\n",
       "      <td>0<\/td>\n",
       "    <\/tr>\n",
       "    <tr>\n",
       "      <th>4<\/th>\n",
       "      <td>-1.276053<\/td>\n",
       "      <td>0.239007<\/td>\n",
       "      <td>-0.162086<\/td>\n",
       "      <td>1.570077<\/td>\n",
       "      <td>4.031562<\/td>\n",
       "      <td>0.422688<\/td>\n",
       "      <td>2.480069<\/td>\n",
       "      <td>-2.567009<\/td>\n",
       "      <td>-0.596406<\/td>\n",
       "      <td>0.161908<\/td>\n",
       "      <td>...<\/td>\n",
       "      <td>0.037877<\/td>\n",
       "      <td>-0.319629<\/td>\n",
       "      <td>0.017849<\/td>\n",
       "      <td>0.347164<\/td>\n",
       "      <td>-0.378782<\/td>\n",
       "      <td>0.251028<\/td>\n",
       "      <td>0.083118<\/td>\n",
       "      <td>0.299389<\/td>\n",
       "      <td>-0.132000<\/td>\n",
       "      <td>0<\/td>\n",
       "    <\/tr>\n",
       "  <\/tbody>\n",
       "<\/table>\n",
       "<p>5 rows × 27 columns<\/p>\n",
       "<\/div>"
      ]
     },
     "metadata":{
      
     },
     "output_type":"display_data"
    }
   ],
   "metadata":{
    "datalore":{
     "type":"CODE",
     "hide_input_from_viewers":false,
     "hide_output_from_viewers":false
    }
   }
  },
  {
   "cell_type":"code",
   "source":[
    "df_adhd_synth.info()"
   ],
   "execution_count":44,
   "outputs":[
    {
     "name":"stdout",
     "text":[
      "<class 'pandas.core.frame.DataFrame'>\n",
      "Int64Index: 60 entries, 0 to 29\n",
      "Data columns (total 27 columns):\n",
      " #   Column  Non-Null Count  Dtype  \n",
      "---  ------  --------------  -----  \n",
      " 0   0       60 non-null     float64\n",
      " 1   1       60 non-null     float64\n",
      " 2   2       60 non-null     float64\n",
      " 3   3       60 non-null     float64\n",
      " 4   4       60 non-null     float64\n",
      " 5   5       60 non-null     float64\n",
      " 6   6       60 non-null     float64\n",
      " 7   7       60 non-null     float64\n",
      " 8   8       60 non-null     float64\n",
      " 9   9       60 non-null     float64\n",
      " 10  10      60 non-null     float64\n",
      " 11  11      60 non-null     float64\n",
      " 12  12      60 non-null     float64\n",
      " 13  13      60 non-null     float64\n",
      " 14  14      60 non-null     float64\n",
      " 15  15      60 non-null     float64\n",
      " 16  16      60 non-null     float64\n",
      " 17  17      60 non-null     float64\n",
      " 18  18      60 non-null     float64\n",
      " 19  19      60 non-null     float64\n",
      " 20  20      60 non-null     float64\n",
      " 21  21      60 non-null     float64\n",
      " 22  22      60 non-null     float64\n",
      " 23  23      60 non-null     float64\n",
      " 24  24      60 non-null     float64\n",
      " 25  25      60 non-null     float64\n",
      " 26  adhd    60 non-null     int64  \n",
      "dtypes: float64(26), int64(1)\n",
      "memory usage: 13.1 KB\n"
     ],
     "output_type":"stream"
    }
   ],
   "metadata":{
    "datalore":{
     "type":"CODE",
     "hide_input_from_viewers":false,
     "hide_output_from_viewers":false
    }
   }
  },
  {
   "cell_type":"code",
   "source":[
    "X_train_synth, X_test_synth, y_train_synth, y_test_synth = train_test_split(df_adhd_synth.drop(['adhd'], axis=1), df_adhd_synth['adhd'], test_size=0.4, random_state=17)"
   ],
   "execution_count":36,
   "outputs":[
    
   ],
   "metadata":{
    "datalore":{
     "type":"CODE",
     "hide_input_from_viewers":false,
     "hide_output_from_viewers":false
    }
   }
  },
  {
   "cell_type":"code",
   "source":[
    "grid_synth = GridSearchCV(pipe, param_grid=param_grid, cv=5)\n",
    "grid_synth.fit(X_train_synth, y_train_synth)\n",
    "\n",
    "print(\"Best params:\\n{}\\n\".format(grid_synth.best_params_))\n",
    "print(\"Best cross-validation score: {:.2f}\".format(grid_synth.best_score_))\n",
    "print(\"Test-set score: {:.2f}\".format(grid_synth.score(X_test_synth, y_test_synth)))"
   ],
   "execution_count":37,
   "outputs":[
    {
     "name":"stdout",
     "text":[
      "Best params:\n",
      "{'classifier': XGBClassifier(base_score=None, booster=None, colsample_bylevel=None,\n",
      "              colsample_bynode=None, colsample_bytree=None,\n",
      "              enable_categorical=False, eval_metric='mlogloss', gamma=None,\n",
      "              gpu_id=None, importance_type=None, interaction_constraints=None,\n",
      "              learning_rate=None, max_delta_step=None, max_depth=2,\n",
      "              min_child_weight=None, missing=nan, monotone_constraints=None,\n",
      "              n_estimators=100, n_jobs=None, num_parallel_tree=None,\n",
      "              predictor=None, random_state=None, reg_alpha=None,\n",
      "              reg_lambda=None, scale_pos_weight=None, subsample=None,\n",
      "              tree_method=None, validate_parameters=None, verbosity=None), 'classifier__max_depth': 2, 'classifier__n_estimators': 100, 'preprocessing': StandardScaler()}\n",
      "\n",
      "Best cross-validation score: 0.56\n",
      "Test-set score: 0.50\n"
     ],
     "output_type":"stream"
    }
   ],
   "metadata":{
    "datalore":{
     "type":"CODE",
     "hide_input_from_viewers":false,
     "hide_output_from_viewers":false
    }
   }
  },
  {
   "cell_type":"code",
   "source":[
    "from sklearn.inspection import permutation_importance"
   ],
   "execution_count":38,
   "outputs":[
    
   ],
   "metadata":{
    "datalore":{
     "type":"CODE",
     "hide_input_from_viewers":false,
     "hide_output_from_viewers":false
    }
   }
  },
  {
   "cell_type":"code",
   "source":[
    "df_adhd_synth.plot(kind='hist', alpha=0.4)"
   ],
   "execution_count":39,
   "outputs":[
    {
     "data":{
      "text\/plain":[
       "<AxesSubplot:ylabel='Frequency'>"
      ],
      "image\/png":"[encoded data removed]"
     },
     "metadata":{
      "image\/png":{
       
      }
     },
     "output_type":"display_data"
    }
   ],
   "metadata":{
    "datalore":{
     "type":"CODE",
     "hide_input_from_viewers":false,
     "hide_output_from_viewers":false
    }
   }
  },
  {
   "cell_type":"code",
   "source":[
    "df_adhd_synth.describe()"
   ],
   "execution_count":40,
   "outputs":[
    {
     "data":{
      "text\/html":[
       "<div>\n",
       "<style scoped>\n",
       "    .dataframe tbody tr th:only-of-type {\n",
       "        vertical-align: middle;\n",
       "    }\n",
       "\n",
       "    .dataframe tbody tr th {\n",
       "        vertical-align: top;\n",
       "    }\n",
       "\n",
       "    .dataframe thead th {\n",
       "        text-align: right;\n",
       "    }\n",
       "<\/style>\n",
       "<table border=\"1\" class=\"dataframe\">\n",
       "  <thead>\n",
       "    <tr style=\"text-align: right;\">\n",
       "      <th><\/th>\n",
       "      <th>0<\/th>\n",
       "      <th>1<\/th>\n",
       "      <th>2<\/th>\n",
       "      <th>3<\/th>\n",
       "      <th>4<\/th>\n",
       "      <th>5<\/th>\n",
       "      <th>6<\/th>\n",
       "      <th>7<\/th>\n",
       "      <th>8<\/th>\n",
       "      <th>9<\/th>\n",
       "      <th>...<\/th>\n",
       "      <th>17<\/th>\n",
       "      <th>18<\/th>\n",
       "      <th>19<\/th>\n",
       "      <th>20<\/th>\n",
       "      <th>21<\/th>\n",
       "      <th>22<\/th>\n",
       "      <th>23<\/th>\n",
       "      <th>24<\/th>\n",
       "      <th>25<\/th>\n",
       "      <th>adhd<\/th>\n",
       "    <\/tr>\n",
       "  <\/thead>\n",
       "  <tbody>\n",
       "    <tr>\n",
       "      <th>count<\/th>\n",
       "      <td>60.000000<\/td>\n",
       "      <td>60.000000<\/td>\n",
       "      <td>60.000000<\/td>\n",
       "      <td>60.000000<\/td>\n",
       "      <td>60.000000<\/td>\n",
       "      <td>60.000000<\/td>\n",
       "      <td>60.000000<\/td>\n",
       "      <td>60.000000<\/td>\n",
       "      <td>60.000000<\/td>\n",
       "      <td>60.000000<\/td>\n",
       "      <td>...<\/td>\n",
       "      <td>60.000000<\/td>\n",
       "      <td>60.000000<\/td>\n",
       "      <td>60.000000<\/td>\n",
       "      <td>60.000000<\/td>\n",
       "      <td>60.000000<\/td>\n",
       "      <td>60.000000<\/td>\n",
       "      <td>60.000000<\/td>\n",
       "      <td>60.000000<\/td>\n",
       "      <td>60.000000<\/td>\n",
       "      <td>60.000000<\/td>\n",
       "    <\/tr>\n",
       "    <tr>\n",
       "      <th>mean<\/th>\n",
       "      <td>0.016811<\/td>\n",
       "      <td>0.019893<\/td>\n",
       "      <td>-0.036882<\/td>\n",
       "      <td>-0.114764<\/td>\n",
       "      <td>-0.289545<\/td>\n",
       "      <td>-0.078582<\/td>\n",
       "      <td>-0.031315<\/td>\n",
       "      <td>-0.133524<\/td>\n",
       "      <td>-0.095262<\/td>\n",
       "      <td>-0.031647<\/td>\n",
       "      <td>...<\/td>\n",
       "      <td>-0.008971<\/td>\n",
       "      <td>-0.020515<\/td>\n",
       "      <td>0.005847<\/td>\n",
       "      <td>0.166775<\/td>\n",
       "      <td>0.034277<\/td>\n",
       "      <td>0.088526<\/td>\n",
       "      <td>-0.015063<\/td>\n",
       "      <td>-0.070214<\/td>\n",
       "      <td>0.154595<\/td>\n",
       "      <td>0.616667<\/td>\n",
       "    <\/tr>\n",
       "    <tr>\n",
       "      <th>std<\/th>\n",
       "      <td>2.061778<\/td>\n",
       "      <td>1.792618<\/td>\n",
       "      <td>1.595888<\/td>\n",
       "      <td>1.460365<\/td>\n",
       "      <td>1.688974<\/td>\n",
       "      <td>1.359250<\/td>\n",
       "      <td>1.305264<\/td>\n",
       "      <td>1.155268<\/td>\n",
       "      <td>1.260939<\/td>\n",
       "      <td>1.209979<\/td>\n",
       "      <td>...<\/td>\n",
       "      <td>1.038159<\/td>\n",
       "      <td>1.035657<\/td>\n",
       "      <td>1.008071<\/td>\n",
       "      <td>1.063294<\/td>\n",
       "      <td>0.745928<\/td>\n",
       "      <td>0.880320<\/td>\n",
       "      <td>0.773529<\/td>\n",
       "      <td>0.971008<\/td>\n",
       "      <td>0.784899<\/td>\n",
       "      <td>0.490301<\/td>\n",
       "    <\/tr>\n",
       "    <tr>\n",
       "      <th>min<\/th>\n",
       "      <td>-3.456679<\/td>\n",
       "      <td>-4.186746<\/td>\n",
       "      <td>-3.159638<\/td>\n",
       "      <td>-2.618741<\/td>\n",
       "      <td>-2.764058<\/td>\n",
       "      <td>-3.003476<\/td>\n",
       "      <td>-2.907267<\/td>\n",
       "      <td>-2.567009<\/td>\n",
       "      <td>-2.020235<\/td>\n",
       "      <td>-1.910165<\/td>\n",
       "      <td>...<\/td>\n",
       "      <td>-1.718721<\/td>\n",
       "      <td>-1.421869<\/td>\n",
       "      <td>-2.007487<\/td>\n",
       "      <td>-1.860255<\/td>\n",
       "      <td>-2.102498<\/td>\n",
       "      <td>-1.522336<\/td>\n",
       "      <td>-1.502723<\/td>\n",
       "      <td>-1.724015<\/td>\n",
       "      <td>-1.464660<\/td>\n",
       "      <td>0.000000<\/td>\n",
       "    <\/tr>\n",
       "    <tr>\n",
       "      <th>25%<\/th>\n",
       "      <td>-1.780713<\/td>\n",
       "      <td>-1.235413<\/td>\n",
       "      <td>-1.193796<\/td>\n",
       "      <td>-1.083969<\/td>\n",
       "      <td>-1.433377<\/td>\n",
       "      <td>-0.937539<\/td>\n",
       "      <td>-0.914042<\/td>\n",
       "      <td>-0.823792<\/td>\n",
       "      <td>-1.227886<\/td>\n",
       "      <td>-0.751021<\/td>\n",
       "      <td>...<\/td>\n",
       "      <td>-0.534752<\/td>\n",
       "      <td>-0.717058<\/td>\n",
       "      <td>-0.506664<\/td>\n",
       "      <td>-0.445838<\/td>\n",
       "      <td>-0.379213<\/td>\n",
       "      <td>-0.540942<\/td>\n",
       "      <td>-0.502186<\/td>\n",
       "      <td>-0.710693<\/td>\n",
       "      <td>-0.270669<\/td>\n",
       "      <td>0.000000<\/td>\n",
       "    <\/tr>\n",
       "    <tr>\n",
       "      <th>50%<\/th>\n",
       "      <td>0.353325<\/td>\n",
       "      <td>0.071559<\/td>\n",
       "      <td>0.398743<\/td>\n",
       "      <td>-0.281533<\/td>\n",
       "      <td>-0.465894<\/td>\n",
       "      <td>-0.427201<\/td>\n",
       "      <td>-0.185236<\/td>\n",
       "      <td>-0.087139<\/td>\n",
       "      <td>-0.276117<\/td>\n",
       "      <td>-0.065308<\/td>\n",
       "      <td>...<\/td>\n",
       "      <td>0.037877<\/td>\n",
       "      <td>-0.219445<\/td>\n",
       "      <td>-0.054614<\/td>\n",
       "      <td>-0.011611<\/td>\n",
       "      <td>0.219030<\/td>\n",
       "      <td>0.240312<\/td>\n",
       "      <td>-0.056196<\/td>\n",
       "      <td>0.030515<\/td>\n",
       "      <td>0.095622<\/td>\n",
       "      <td>1.000000<\/td>\n",
       "    <\/tr>\n",
       "    <tr>\n",
       "      <th>75%<\/th>\n",
       "      <td>1.433893<\/td>\n",
       "      <td>1.039402<\/td>\n",
       "      <td>1.484356<\/td>\n",
       "      <td>1.044061<\/td>\n",
       "      <td>0.400158<\/td>\n",
       "      <td>0.674755<\/td>\n",
       "      <td>0.708520<\/td>\n",
       "      <td>0.481578<\/td>\n",
       "      <td>0.881791<\/td>\n",
       "      <td>0.755098<\/td>\n",
       "      <td>...<\/td>\n",
       "      <td>0.589345<\/td>\n",
       "      <td>0.331199<\/td>\n",
       "      <td>0.488147<\/td>\n",
       "      <td>0.499096<\/td>\n",
       "      <td>0.403942<\/td>\n",
       "      <td>0.577540<\/td>\n",
       "      <td>0.385773<\/td>\n",
       "      <td>0.605524<\/td>\n",
       "      <td>0.572711<\/td>\n",
       "      <td>1.000000<\/td>\n",
       "    <\/tr>\n",
       "    <tr>\n",
       "      <th>max<\/th>\n",
       "      <td>4.273800<\/td>\n",
       "      <td>5.215908<\/td>\n",
       "      <td>4.092744<\/td>\n",
       "      <td>3.216469<\/td>\n",
       "      <td>4.031562<\/td>\n",
       "      <td>3.043763<\/td>\n",
       "      <td>3.094482<\/td>\n",
       "      <td>2.772162<\/td>\n",
       "      <td>2.942429<\/td>\n",
       "      <td>3.548714<\/td>\n",
       "      <td>...<\/td>\n",
       "      <td>2.402969<\/td>\n",
       "      <td>2.351990<\/td>\n",
       "      <td>2.025634<\/td>\n",
       "      <td>2.265234<\/td>\n",
       "      <td>2.745743<\/td>\n",
       "      <td>2.254115<\/td>\n",
       "      <td>2.351889<\/td>\n",
       "      <td>1.779469<\/td>\n",
       "      <td>1.824208<\/td>\n",
       "      <td>1.000000<\/td>\n",
       "    <\/tr>\n",
       "  <\/tbody>\n",
       "<\/table>\n",
       "<p>8 rows × 27 columns<\/p>\n",
       "<\/div>"
      ]
     },
     "metadata":{
      
     },
     "output_type":"display_data"
    }
   ],
   "metadata":{
    "datalore":{
     "type":"CODE",
     "hide_input_from_viewers":false,
     "hide_output_from_viewers":false
    }
   }
  },
  {
   "cell_type":"code",
   "source":[
    "df_adhd.plot(kind='hist', alpha=0.4)"
   ],
   "execution_count":41,
   "outputs":[
    {
     "data":{
      "text\/plain":[
       "<AxesSubplot:ylabel='Frequency'>"
      ],
      "image\/png":"[encoded data removed]"
     },
     "metadata":{
      "image\/png":{
       
      }
     },
     "output_type":"display_data"
    }
   ],
   "metadata":{
    "datalore":{
     "type":"CODE",
     "hide_input_from_viewers":false,
     "hide_output_from_viewers":false
    }
   }
  },
  {
   "cell_type":"code",
   "source":[
    "synthetic_data.plot(kind='hist', alpha=0.4)"
   ],
   "execution_count":42,
   "outputs":[
    {
     "data":{
      "text\/plain":[
       "<AxesSubplot:ylabel='Frequency'>"
      ],
      "image\/png":"[encoded data removed]"
     },
     "metadata":{
      "image\/png":{
       
      }
     },
     "output_type":"display_data"
    }
   ],
   "metadata":{
    "datalore":{
     "type":"CODE",
     "hide_input_from_viewers":false,
     "hide_output_from_viewers":false
    }
   }
  },
  {
   "cell_type":"code",
   "source":[
    "def plot_learning_curve(C=10):\n",
    "    train_sizes = np.linspace(0.1, 1, 20)\n",
    "    pipe.set_params(classifier__C=C)\n",
    "    N_train, val_train, val_test = learning_curve(pipe,\n",
    "                                                  X_train, y_train, train_sizes=train_sizes, cv=5,\n",
    "                                                  scoring='accuracy')\n",
    "    plot_with_err(N_train, val_train, label='training scores')\n",
    "    plot_with_err(N_train, val_test, label='validation scores')\n",
    "    plt.xlabel('Training Set Size'); plt.ylabel('Acc')\n",
    "    plt.legend()\n",
    "\n",
    "plot_learning_curve(C=0.1)"
   ],
   "execution_count":43,
   "outputs":[
    {
     "data":{
      "image\/png":"[encoded data removed]"
     },
     "metadata":{
      "image\/png":{
       
      }
     },
     "output_type":"display_data"
    }
   ],
   "metadata":{
    "datalore":{
     "type":"CODE",
     "hide_input_from_viewers":false,
     "hide_output_from_viewers":false
    }
   }
  },
  {
   "cell_type":"code",
   "source":[
    
   ],
   "execution_count":43,
   "outputs":[
    
   ],
   "metadata":{
    "datalore":{
     "type":"CODE",
     "hide_input_from_viewers":false,
     "hide_output_from_viewers":false
    }
   }
  }
 ],
 "metadata":{
  "datalore":{
   "version":1,
   "computation_mode":"JUPYTER",
   "package_manager":"pip",
   "base_environment":"default",
   "packages":[
    {
     "name":"nilearn",
     "version":"0.8.1",
     "source":"PIP"
    },
    {
     "name":"ctgan",
     "version":"0.5.0.dev0",
     "source":"PIP"
    },
    {
     "name":"table-evaluator",
     "version":"1.3.2",
     "source":"PIP"
    }
   ]
  }
 },
 "nbformat":4,
 "nbformat_minor":4
}