{
 "cells":[
  {
   "cell_type":"code",
   "source":[
    "import numpy as np \n",
    "import pandas as pd \n",
    "import seaborn as sns \n",
    "import matplotlib.pyplot as plt \n",
    "import xgboost as xgb \n",
    "from sklearn.ensemble import RandomForestClassifier\n",
    "from sklearn.metrics import accuracy_score\n",
    "from sklearn.preprocessing import OneHotEncoder, StandardScaler\n",
    "from sklearn.impute import SimpleImputer\n",
    "from sklearn.model_selection import GridSearchCV\n",
    "from sklearn.pipeline import Pipeline\n",
    "from sklearn.compose import ColumnTransformer \n",
    "from sklearn.model_selection import train_test_split\n",
    "from sklearn.linear_model import LogisticRegression\n",
    "from xgboost.sklearn import XGBClassifier\n",
    "%matplotlib inline"
   ],
   "execution_count":27,
   "outputs":[
    
   ],
   "metadata":{
    "datalore":{
     "type":"CODE",
     "hide_input_from_viewers":false,
     "hide_output_from_viewers":false
    }
   }
  },
  {
   "cell_type":"code",
   "source":[
    "#используется тот же датасет что и на прошлых домашках \n",
    "dementia = pd.read_csv('dementia_dataset+(1) (1).csv')\n",
    "dementia.head()"
   ],
   "execution_count":13,
   "outputs":[
    {
     "data":{
      "text\/html":[
       "<div>\n",
       "<style scoped>\n",
       "    .dataframe tbody tr th:only-of-type {\n",
       "        vertical-align: middle;\n",
       "    }\n",
       "\n",
       "    .dataframe tbody tr th {\n",
       "        vertical-align: top;\n",
       "    }\n",
       "\n",
       "    .dataframe thead th {\n",
       "        text-align: right;\n",
       "    }\n",
       "<\/style>\n",
       "<table border=\"1\" class=\"dataframe\">\n",
       "  <thead>\n",
       "    <tr style=\"text-align: right;\">\n",
       "      <th><\/th>\n",
       "      <th>Subject ID<\/th>\n",
       "      <th>MRI ID<\/th>\n",
       "      <th>Group<\/th>\n",
       "      <th>Visit<\/th>\n",
       "      <th>MR Delay<\/th>\n",
       "      <th>M\/F<\/th>\n",
       "      <th>Hand<\/th>\n",
       "      <th>Age<\/th>\n",
       "      <th>EDUC<\/th>\n",
       "      <th>SES<\/th>\n",
       "      <th>MMSE<\/th>\n",
       "      <th>CDR<\/th>\n",
       "      <th>eTIV<\/th>\n",
       "      <th>nWBV<\/th>\n",
       "      <th>ASF<\/th>\n",
       "    <\/tr>\n",
       "  <\/thead>\n",
       "  <tbody>\n",
       "    <tr>\n",
       "      <th>0<\/th>\n",
       "      <td>OAS2_0001<\/td>\n",
       "      <td>OAS2_0001_MR1<\/td>\n",
       "      <td>Nondemented<\/td>\n",
       "      <td>1<\/td>\n",
       "      <td>0<\/td>\n",
       "      <td>M<\/td>\n",
       "      <td>R<\/td>\n",
       "      <td>87<\/td>\n",
       "      <td>14<\/td>\n",
       "      <td>2.0<\/td>\n",
       "      <td>27.0<\/td>\n",
       "      <td>0.0<\/td>\n",
       "      <td>1987<\/td>\n",
       "      <td>0.696<\/td>\n",
       "      <td>0.883<\/td>\n",
       "    <\/tr>\n",
       "    <tr>\n",
       "      <th>1<\/th>\n",
       "      <td>OAS2_0001<\/td>\n",
       "      <td>OAS2_0001_MR2<\/td>\n",
       "      <td>Nondemented<\/td>\n",
       "      <td>2<\/td>\n",
       "      <td>457<\/td>\n",
       "      <td>M<\/td>\n",
       "      <td>R<\/td>\n",
       "      <td>88<\/td>\n",
       "      <td>14<\/td>\n",
       "      <td>2.0<\/td>\n",
       "      <td>30.0<\/td>\n",
       "      <td>0.0<\/td>\n",
       "      <td>2004<\/td>\n",
       "      <td>0.681<\/td>\n",
       "      <td>0.876<\/td>\n",
       "    <\/tr>\n",
       "    <tr>\n",
       "      <th>2<\/th>\n",
       "      <td>OAS2_0002<\/td>\n",
       "      <td>OAS2_0002_MR1<\/td>\n",
       "      <td>Demented<\/td>\n",
       "      <td>1<\/td>\n",
       "      <td>0<\/td>\n",
       "      <td>M<\/td>\n",
       "      <td>R<\/td>\n",
       "      <td>75<\/td>\n",
       "      <td>12<\/td>\n",
       "      <td>NaN<\/td>\n",
       "      <td>23.0<\/td>\n",
       "      <td>0.5<\/td>\n",
       "      <td>1678<\/td>\n",
       "      <td>0.736<\/td>\n",
       "      <td>1.046<\/td>\n",
       "    <\/tr>\n",
       "    <tr>\n",
       "      <th>3<\/th>\n",
       "      <td>OAS2_0002<\/td>\n",
       "      <td>OAS2_0002_MR2<\/td>\n",
       "      <td>Demented<\/td>\n",
       "      <td>2<\/td>\n",
       "      <td>560<\/td>\n",
       "      <td>M<\/td>\n",
       "      <td>R<\/td>\n",
       "      <td>76<\/td>\n",
       "      <td>12<\/td>\n",
       "      <td>NaN<\/td>\n",
       "      <td>28.0<\/td>\n",
       "      <td>0.5<\/td>\n",
       "      <td>1738<\/td>\n",
       "      <td>0.713<\/td>\n",
       "      <td>1.010<\/td>\n",
       "    <\/tr>\n",
       "    <tr>\n",
       "      <th>4<\/th>\n",
       "      <td>OAS2_0002<\/td>\n",
       "      <td>OAS2_0002_MR3<\/td>\n",
       "      <td>Demented<\/td>\n",
       "      <td>3<\/td>\n",
       "      <td>1895<\/td>\n",
       "      <td>M<\/td>\n",
       "      <td>R<\/td>\n",
       "      <td>80<\/td>\n",
       "      <td>12<\/td>\n",
       "      <td>NaN<\/td>\n",
       "      <td>22.0<\/td>\n",
       "      <td>0.5<\/td>\n",
       "      <td>1698<\/td>\n",
       "      <td>0.701<\/td>\n",
       "      <td>1.034<\/td>\n",
       "    <\/tr>\n",
       "  <\/tbody>\n",
       "<\/table>\n",
       "<\/div>"
      ]
     },
     "metadata":{
      
     },
     "output_type":"display_data"
    }
   ],
   "metadata":{
    "datalore":{
     "type":"CODE",
     "hide_input_from_viewers":false,
     "hide_output_from_viewers":false
    }
   }
  },
  {
   "cell_type":"code",
   "source":[
    "dementia.rename(columns={'Group':'Dementia'}, inplace=True)\n",
    "X = dementia.drop(columns=['Subject ID', 'MRI ID', 'Dementia'])\n",
    "y = dementia['Dementia']\n",
    "X_train, X_test, y_train, y_test = train_test_split(dementia.drop(columns=['Subject ID', 'MRI ID', 'Dementia']), \n",
    "                                                                  dementia['Dementia'], test_size=.2, random_state=42)\n",
    "\n",
    "categorical = list(X_train[['M\/F', 'Hand','Visit', 'SES']])\n",
    "print(f'Categorical columns are: {categorical}')\n",
    "\n",
    "numerical = list(X_train[['MR Delay', 'Age', 'EDUC', 'MMSE', 'CDR', 'eTIV', 'nWBV', 'ASF']])\n",
    "print(f'Numerical columns are: {numerical}')"
   ],
   "execution_count":14,
   "outputs":[
    {
     "name":"stdout",
     "text":[
      "Categorical columns are: ['M\/F', 'Hand', 'Visit', 'SES']\n",
      "Numerical columns are: ['MR Delay', 'Age', 'EDUC', 'MMSE', 'CDR', 'eTIV', 'nWBV', 'ASF']\n"
     ],
     "output_type":"stream"
    }
   ],
   "metadata":{
    "datalore":{
     "type":"CODE",
     "hide_input_from_viewers":false,
     "hide_output_from_viewers":false
    }
   }
  },
  {
   "cell_type":"code",
   "source":[
    "y_train = y_train.apply(lambda x: 1 if x != \"Nondemented\" else 0)\n",
    "y_test = y_test.apply(lambda x: 1 if x != \"Nondemented\" else 0)\n",
    "\n",
    "cat_pipe = Pipeline([\n",
    "    ('imputer', SimpleImputer(strategy='constant', fill_value=0.0)),\n",
    "    ('onehotencoder', OneHotEncoder(drop='if_binary', handle_unknown='ignore'))\n",
    "])\n",
    "\n",
    "num_pipe = Pipeline([\n",
    "    ('imputer', SimpleImputer(strategy='median')), \n",
    "    ('scaler', StandardScaler())\n",
    "])\n",
    "\n",
    "preprocessor = ColumnTransformer([\n",
    "    ('cat2', cat_pipe, categorical),\n",
    "    ('num', num_pipe, numerical)\n",
    "])"
   ],
   "execution_count":16,
   "outputs":[
    
   ],
   "metadata":{
    "datalore":{
     "type":"CODE",
     "hide_input_from_viewers":false,
     "hide_output_from_viewers":false
    }
   }
  },
  {
   "cell_type":"code",
   "source":[
    "def model_in_pipeline(model, preprocessor, x, y):\n",
    "    myModel = Pipeline([\n",
    "        ('preprocessor', preprocessor),\n",
    "        ('model', model)\n",
    "    ])\n",
    "    myModel.fit(x, y)\n",
    "    print(f\"Качество классификации модели: {myModel.score(x,y):.2f}\")"
   ],
   "execution_count":17,
   "outputs":[
    
   ],
   "metadata":{
    "datalore":{
     "type":"CODE",
     "hide_input_from_viewers":false,
     "hide_output_from_viewers":false
    }
   }
  },
  {
   "cell_type":"code",
   "source":[
    "rf = RandomForestClassifier()\n",
    "logreg = LogisticRegression()\n",
    "print('Cлучайный лес на тренировочной выборке')\n",
    "model_in_pipeline(rf, preprocessor, X_train, y_train)\n",
    "print('Cлучайный лес на тестовой выборке')\n",
    "model_in_pipeline(rf, preprocessor, X_test, y_test)\n",
    "print()\n",
    "print('Логрег на тренировочной выборке')\n",
    "model_in_pipeline(logreg, preprocessor, X_train, y_train)\n",
    "print('Логрег на тестовой выборке')\n",
    "model_in_pipeline(logreg, preprocessor, X_test, y_test)\n",
    "\n",
    "#модель сама справилась на ура даже без тюнинга параметров\n",
    "#но посмотрим дальше важность фич и применит бустинг "
   ],
   "execution_count":18,
   "outputs":[
    {
     "name":"stdout",
     "text":[
      "Cлучайный лес на тренировочной выборке\n",
      "Качество классификации модели: 1.00\n",
      "Cлучайный лес на тестовой выборке\n",
      "Качество классификации модели: 1.00\n",
      "\n",
      "Логрег на тренировочной выборке\n",
      "Качество классификации модели: 0.96\n",
      "Логрег на тестовой выборке\n",
      "Качество классификации модели: 0.87\n"
     ],
     "output_type":"stream"
    }
   ],
   "metadata":{
    "datalore":{
     "type":"CODE",
     "hide_input_from_viewers":false,
     "hide_output_from_viewers":false
    }
   }
  },
  {
   "cell_type":"code",
   "source":[
    "rf.feature_importances_"
   ],
   "execution_count":19,
   "outputs":[
    {
     "data":{
      "text\/html":[
       
      ]
     },
     "metadata":{
      
     },
     "output_type":"display_data"
    }
   ],
   "metadata":{
    "datalore":{
     "type":"CODE",
     "hide_input_from_viewers":false,
     "hide_output_from_viewers":false
    }
   }
  },
  {
   "cell_type":"code",
   "source":[
    "X = preprocessor.fit_transform(X, y)"
   ],
   "execution_count":23,
   "outputs":[
    
   ],
   "metadata":{
    "datalore":{
     "type":"CODE",
     "hide_input_from_viewers":false,
     "hide_output_from_viewers":false
    }
   }
  },
  {
   "cell_type":"code",
   "source":[
    "#а решающие деревья здесь всё-таки очень хороши \n",
    "#посмотрим на значимость признаков \n",
    "#пока мы энкодили наши признаки пропали названия колонок, так что мы пока видим что какая-то фича просто оказалась важнее\n",
    "X = pd.DataFrame(X)\n",
    "\n",
    "feat_import = pd.DataFrame(data = rf.feature_importances_, index = X.columns, columns=['Importance'])\n",
    "feat_import = feat_import.sort_values(by = 'Importance', ascending = False)\n",
    "feat_import.head(30).plot(kind='bar', logy=True)"
   ],
   "execution_count":25,
   "outputs":[
    {
     "data":{
      "text\/plain":[
       "<AxesSubplot:>"
      ],
      "image\/png":"[encoded data removed]"
     },
     "metadata":{
      "image\/png":{
       
      }
     },
     "output_type":"display_data"
    }
   ],
   "metadata":{
    "datalore":{
     "type":"CODE",
     "hide_input_from_viewers":false,
     "hide_output_from_viewers":false
    }
   }
  },
  {
   "cell_type":"code",
   "source":[
    "#теперь поработает с бустингом \n",
    "#подберём сначала для него оптимальные гиперпараметры \n",
    "\n",
    "xgb_clf = XGBClassifier()\n",
    "param_grid = {\n",
    "    'max_depth': [10, 15, 20], \n",
    "    'min_child_weight': [1, 3],\n",
    "    'n_estimators': [50, 70],\n",
    "    'learning_rate': [0.5, 0.7]\n",
    "}\n",
    "\n",
    "grid = GridSearchCV(xgb_clf, param_grid=param_grid, cv = 3, verbose=5, n_jobs=-1)\n",
    "model_in_pipeline(grid, preprocessor, X_train, y_train)"
   ],
   "execution_count":29,
   "outputs":[
    {
     "name":"stdout",
     "text":[
      "Fitting 3 folds for each of 24 candidates, totalling 72 fits\n",
      "[22:40:02] WARNING: ..\/src\/learner.cc:1115: Starting in XGBoost 1.3.0, the default evaluation metric used with the objective 'binary:logistic' was changed from 'error' to 'logloss'. Explicitly set eval_metric if you'd like to restore the old behavior.\n",
      "Качество классификации модели: 1.00\n"
     ],
     "output_type":"stream"
    },
    {
     "name":"stderr",
     "text":[
      "\/opt\/python\/envs\/default\/lib\/python3.8\/site-packages\/xgboost\/sklearn.py:1224: UserWarning: The use of label encoder in XGBClassifier is deprecated and will be removed in a future release. To remove this warning, do the following: 1) Pass option use_label_encoder=False when constructing XGBClassifier object; and 2) Encode your labels (y) as integers starting with 0, i.e. 0, 1, 2, ..., [num_class - 1].\n",
      "  warnings.warn(label_encoder_deprecation_msg, UserWarning)\n"
     ],
     "output_type":"stream"
    }
   ],
   "metadata":{
    "datalore":{
     "type":"CODE",
     "hide_input_from_viewers":false,
     "hide_output_from_viewers":false
    }
   }
  },
  {
   "cell_type":"code",
   "source":[
    "test_model = model_in_pipeline(grid, preprocessor, X_test, y_test)"
   ],
   "execution_count":32,
   "outputs":[
    {
     "name":"stdout",
     "text":[
      "Fitting 3 folds for each of 24 candidates, totalling 72 fits\n"
     ],
     "output_type":"stream"
    }
   ],
   "metadata":{
    "datalore":{
     "type":"CODE",
     "hide_input_from_viewers":false,
     "hide_output_from_viewers":false
    }
   }
  },
  {
   "cell_type":"code",
   "source":[
    "print(\"Лучшие параметры:\\n{}\\n\".format(grid.best_params_))\n",
    "print(\"Лучший скор: {:.2f}\".format(grid.best_score_))\n",
    "print(\"Скор на тестовой выборке: {:.2f}\".format(grid.score(X_test, y_test)))"
   ],
   "execution_count":34,
   "outputs":[
    {
     "name":"stdout",
     "text":[
      "Лучшие параметры:\n",
      "{'learning_rate': 0.5, 'max_depth': 10, 'min_child_weight': 3, 'n_estimators': 50}\n",
      "\n",
      "Лучший скор: 0.85\n"
     ],
     "output_type":"stream"
    },
    {
     "ename":"ValueError",
     "evalue":"ValueError: Feature shape mismatch, expected: 21, got 12",
     "traceback":[
      "\u001b[0;31m---------------------------------------------------------------------------",
      "Traceback (most recent call last)",
      "    at line 3 in <module>",
      "ValueError: Feature shape mismatch, expected: 21, got 12"
     ],
     "output_type":"error"
    }
   ],
   "metadata":{
    "datalore":{
     "type":"CODE",
     "hide_input_from_viewers":false,
     "hide_output_from_viewers":false
    }
   }
  },
  {
   "cell_type":"code",
   "source":[
    
   ],
   "execution_count":0,
   "outputs":[
    
   ],
   "metadata":{
    "datalore":{
     "type":"CODE",
     "hide_input_from_viewers":false,
     "hide_output_from_viewers":false
    }
   }
  }
 ],
 "metadata":{
  "datalore":{
   "version":1,
   "computation_mode":"JUPYTER",
   "package_manager":"pip",
   "base_environment":"default",
   "packages":[
    
   ]
  }
 },
 "nbformat":4,
 "nbformat_minor":4
}